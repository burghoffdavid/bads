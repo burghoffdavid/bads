{
 "cells": [
  {
   "cell_type": "markdown",
   "metadata": {
    "id": "Zt_Ux_Vao5_h"
   },
   "source": [
    "[![Open In Colab](https://colab.research.google.com/assets/colab-badge.svg)](https://colab.research.google.com/github/burghoffdavid/bads/blob/master/exercises/1_ex_python.ipynb) "
   ]
  },
  {
   "cell_type": "markdown",
   "metadata": {
    "id": "M2kOtcEAo5_i"
   },
   "source": [
    "# Exercises on Python programming\n",
    "We covered a lot of concepts in the first [tutorial on Python programming](https://github.com/Humboldt-WI/bads/blob/master/tutorials/1_nb_python_intro.ipynb). Solving the exercises allows you to test your familiarity with these concepts.  "
   ]
  },
  {
   "cell_type": "code",
   "execution_count": 4,
   "metadata": {
    "id": "pomW7fGpo5_j"
   },
   "outputs": [],
   "source": [
    "import numpy as np"
   ]
  },
  {
   "cell_type": "markdown",
   "metadata": {
    "id": "tUQjnvKjo5_n"
   },
   "source": [
    "## Variables, assignments, and comparisons"
   ]
  },
  {
   "cell_type": "markdown",
   "metadata": {
    "id": "Vlwpfgj7o5_n"
   },
   "source": [
    "1. Create two variables $a$ and $b$ and assign values of $3$ and $4.5$."
   ]
  },
  {
   "cell_type": "code",
   "execution_count": 3,
   "metadata": {
    "colab": {
     "base_uri": "https://localhost:8080/"
    },
    "id": "lFpWFy16o5_o",
    "outputId": "0b42cd31-9cb1-4718-db1b-81fe3712793d"
   },
   "outputs": [
    {
     "name": "stdout",
     "output_type": "stream",
     "text": [
      "test\n"
     ]
    }
   ],
   "source": [
    "b = 4.5\n",
    "a = 3\n",
    "print(\"test\")"
   ]
  },
  {
   "cell_type": "markdown",
   "metadata": {
    "id": "Z27toIe0o5_s"
   },
   "source": [
    "2. Query the type of variable $a$."
   ]
  },
  {
   "cell_type": "code",
   "execution_count": 4,
   "metadata": {
    "colab": {
     "base_uri": "https://localhost:8080/"
    },
    "id": "SOoiIHBUo5_t",
    "outputId": "730d514a-b3e5-4b50-f8ec-3d1730362931"
   },
   "outputs": [
    {
     "data": {
      "text/plain": [
       "int"
      ]
     },
     "execution_count": 4,
     "metadata": {},
     "output_type": "execute_result"
    }
   ],
   "source": [
    "type(a)"
   ]
  },
  {
   "cell_type": "markdown",
   "metadata": {
    "id": "n8i8vhIwo5_x"
   },
   "source": [
    "3. Check whether variable $b$ is a text variable (of class character)."
   ]
  },
  {
   "cell_type": "code",
   "execution_count": 5,
   "metadata": {
    "colab": {
     "base_uri": "https://localhost:8080/"
    },
    "id": "3AYEzUlAo5_y",
    "outputId": "98ca8744-91d9-4a01-dcaf-61e8c4200420"
   },
   "outputs": [
    {
     "name": "stdout",
     "output_type": "stream",
     "text": [
      "False\n"
     ]
    }
   ],
   "source": [
    "print(isinstance(b, str))\n",
    "## checks if a variable is an instance of a class and returns true or false, in this case it checks if b is an instance of the str class."
   ]
  },
  {
   "cell_type": "markdown",
   "metadata": {
    "id": "MLPInLgjo5_1"
   },
   "source": [
    "4. Calculate $a^2 + \\frac{1}{b}$, $\\sqrt{a*b}$, and $log_2(a)$."
   ]
  },
  {
   "cell_type": "code",
   "execution_count": null,
   "metadata": {
    "id": "UQKKPnbqo5_1",
    "outputId": "13cadefe-fc96-413b-e400-9a2759ff8648"
   },
   "outputs": [
    {
     "data": {
      "text/plain": [
       "9.222222222222221"
      ]
     },
     "execution_count": 7,
     "metadata": {
      "tags": []
     },
     "output_type": "execute_result"
    }
   ],
   "source": [
    "a **2 + 1/b"
   ]
  },
  {
   "cell_type": "code",
   "execution_count": null,
   "metadata": {
    "id": "qWEUlzpjo5_3",
    "outputId": "c0eff5f7-d2d9-4973-e356-b9d3a8d273b9"
   },
   "outputs": [
    {
     "data": {
      "text/plain": [
       "3.6742346141747673"
      ]
     },
     "execution_count": 12,
     "metadata": {
      "tags": []
     },
     "output_type": "execute_result"
    }
   ],
   "source": [
    "np.sqrt(a*b)"
   ]
  },
  {
   "cell_type": "code",
   "execution_count": null,
   "metadata": {
    "id": "-WMuZCoFo6AH",
    "outputId": "b4093132-cb99-4ce2-a309-c20c19e997c4"
   },
   "outputs": [
    {
     "data": {
      "text/plain": [
       "1.584962500721156"
      ]
     },
     "execution_count": 13,
     "metadata": {
      "tags": []
     },
     "output_type": "execute_result"
    }
   ],
   "source": [
    "np.log2(a)"
   ]
  },
  {
   "cell_type": "markdown",
   "metadata": {
    "id": "seH1Lw9ro6AP"
   },
   "source": [
    "## Matrix algebra\n",
    "Create three additional variables as follows:\n",
    "\n",
    " $$ A = \\left( \\begin{matrix} 1 & 2 & 3 \\\\ 4 & 5 & 6 \\\\ 7 & 8 & 10 \\end{matrix} \\right) \\quad\n",
    "  B = \\left( \\begin{matrix} 1 & 4 & 7 \\\\ 2 & 5 & 8 \\\\ 3 & 6 & 9 \\end{matrix} \\right)  \\quad\n",
    "  y = \\left( \\begin{matrix} 1 \\\\ 2 \\\\ 3 \\end{matrix} \\right) $$\n",
    "\n",
    "Perform the following operations. Note that mathematical operators like `*` might not behave in the way you need it. Wasn't there a powerful library for all sorts of numerical computations including classic linear algebra?\n",
    "\n",
    "Calculate  \n",
    "\n",
    "  1. $a*A$"
   ]
  },
  {
   "cell_type": "code",
   "execution_count": null,
   "metadata": {
    "id": "4aYWXHDWo6AQ",
    "outputId": "9a735e42-6b80-42eb-e77f-fa505b562d07"
   },
   "outputs": [
    {
     "name": "stdout",
     "output_type": "stream",
     "text": [
      "[[ 1  2  3]\n",
      " [ 4  5  6]\n",
      " [ 7  8 10]]\n"
     ]
    }
   ],
   "source": [
    "A = np.array([1,2,3,4,5,6,7,8,10]).reshape(3,3)\n",
    "print(A)"
   ]
  },
  {
   "cell_type": "code",
   "execution_count": null,
   "metadata": {
    "id": "hCTM4m4Io6AY",
    "outputId": "58a9f056-210a-4ce8-d337-cc7d3c3697b6"
   },
   "outputs": [
    {
     "name": "stdout",
     "output_type": "stream",
     "text": [
      "[[1 4 7]\n",
      " [2 5 8]\n",
      " [3 6 9]]\n"
     ]
    }
   ],
   "source": [
    "B = np.array([1,4,7,2,5,8,3,6,9]).reshape(3,3)\n",
    "print(B)"
   ]
  },
  {
   "cell_type": "code",
   "execution_count": null,
   "metadata": {
    "id": "xnjcMhg4o6Aj",
    "outputId": "5037f7f9-222a-4681-87a5-632383dbced0"
   },
   "outputs": [
    {
     "name": "stdout",
     "output_type": "stream",
     "text": [
      "[[1]\n",
      " [2]\n",
      " [3]]\n"
     ]
    }
   ],
   "source": [
    "y = np.array([1,2,3]).reshape(3,1)\n",
    "print(y)"
   ]
  },
  {
   "cell_type": "markdown",
   "metadata": {
    "id": "FK-bbP-Fo6Ao"
   },
   "source": [
    "  2. $A*B$"
   ]
  },
  {
   "cell_type": "code",
   "execution_count": null,
   "metadata": {
    "id": "jIfi5FeMo6Ap",
    "outputId": "8f250f85-a6dd-46d4-bf89-f48e008788f9"
   },
   "outputs": [
    {
     "data": {
      "text/plain": [
       "array([[ 14,  32,  50],\n",
       "       [ 32,  77, 122],\n",
       "       [ 53, 128, 203]])"
      ]
     },
     "execution_count": 100,
     "metadata": {
      "tags": []
     },
     "output_type": "execute_result"
    }
   ],
   "source": [
    "np.dot(A,B)"
   ]
  },
  {
   "cell_type": "markdown",
   "metadata": {
    "id": "BK7kZEgGo6A0"
   },
   "source": [
    "  3. The inverse of matrix $A$ and store the result in a variable $invA$. Any ideas how to get Python to invert a matrix? Hint: NumPy is your friend.  "
   ]
  },
  {
   "cell_type": "code",
   "execution_count": null,
   "metadata": {
    "id": "F3BizI7Ro6A1",
    "outputId": "0a4de510-31a2-46b8-e52c-f6254e3c3160"
   },
   "outputs": [
    {
     "name": "stdout",
     "output_type": "stream",
     "text": [
      "[[-0.66666667 -1.33333333  1.        ]\n",
      " [-0.66666667  3.66666667 -2.        ]\n",
      " [ 1.         -2.          1.        ]]\n"
     ]
    }
   ],
   "source": [
    "invA = np.linalg.inv(A)\n",
    "print(invA)"
   ]
  },
  {
   "cell_type": "markdown",
   "metadata": {
    "id": "TihWlxcNo6BD"
   },
   "source": [
    "  4. Multiply $A$ and $invA$ and verify that the result is the identity matrix (i.e. only 1s on the diagonal). You'll probably find that it isn't, because computers usually make very small rounding error when handling real numbers. The reason is interesting, but you'll have to look it up if you're interested."
   ]
  },
  {
   "cell_type": "code",
   "execution_count": null,
   "metadata": {
    "id": "bHk800-Mo6BE",
    "outputId": "6bdd1ada-1da4-4c66-c759-bde3e1f68880"
   },
   "outputs": [
    {
     "name": "stdout",
     "output_type": "stream",
     "text": [
      "[[ 1.00000000e+00 -4.44089210e-16 -1.11022302e-16]\n",
      " [ 4.44089210e-16  1.00000000e+00 -2.22044605e-16]\n",
      " [ 4.44089210e-16  8.88178420e-16  1.00000000e+00]]\n",
      "[[1. 0. 0.]\n",
      " [0. 1. 0.]\n",
      " [0. 0. 1.]]\n"
     ]
    }
   ],
   "source": [
    "print(np.dot(A,invA))\n",
    "print(np.eye(3))"
   ]
  },
  {
   "cell_type": "markdown",
   "metadata": {
    "id": "n0cwIlh2o6BL"
   },
   "source": [
    "  5. The transpose of matrix $B$"
   ]
  },
  {
   "cell_type": "code",
   "execution_count": null,
   "metadata": {
    "id": "NidTXIwwo6BQ",
    "outputId": "dc2e2fc0-efa2-45b6-805d-9ef745a9cdb8"
   },
   "outputs": [
    {
     "data": {
      "text/plain": [
       "array([[1, 2, 3],\n",
       "       [4, 5, 6],\n",
       "       [7, 8, 9]])"
      ]
     },
     "execution_count": 103,
     "metadata": {
      "tags": []
     },
     "output_type": "execute_result"
    }
   ],
   "source": [
    "B.transpose()"
   ]
  },
  {
   "cell_type": "markdown",
   "metadata": {
    "id": "WRK6ab1Co6BV"
   },
   "source": [
    "  6. Fill the first row of matrix $B$ with ones"
   ]
  },
  {
   "cell_type": "code",
   "execution_count": null,
   "metadata": {
    "id": "JCq6QLNMo6BW",
    "outputId": "e479d191-efa0-4bba-d0d8-06bca6e4dcbc"
   },
   "outputs": [
    {
     "name": "stdout",
     "output_type": "stream",
     "text": [
      "[[1 1 1]\n",
      " [2 5 8]\n",
      " [3 6 9]]\n"
     ]
    }
   ],
   "source": [
    "B[0] = np.ones(3)\n",
    "print(B)"
   ]
  },
  {
   "cell_type": "markdown",
   "metadata": {
    "id": "lRASIp5qo6Ba"
   },
   "source": [
    "  7. Calculate the ordinary least squares estimator $\\beta$ (i.e. a standard regression) \n",
    "$$ \\beta = (A^{\\top}A)^{-1}A^{\\top} y $$ Run a web search for \"Python matrix transpose\" to get help on how to transpose a matrix. "
   ]
  },
  {
   "cell_type": "code",
   "execution_count": null,
   "metadata": {
    "id": "aUv0eU5io6Bb",
    "outputId": "79e5c4a5-d903-4d61-c5f2-8038bb2dfffb"
   },
   "outputs": [
    {
     "data": {
      "text/plain": [
       "array([[-3.33333333e-01],\n",
       "       [ 6.66666667e-01],\n",
       "       [-5.68434189e-14]])"
      ]
     },
     "execution_count": 105,
     "metadata": {
      "tags": []
     },
     "output_type": "execute_result"
    }
   ],
   "source": [
    "np.dot(np.linalg.inv(np.dot(A.transpose(), A)), (np.dot(A.transpose(), y)))"
   ]
  },
  {
   "cell_type": "markdown",
   "metadata": {
    "id": "lOcSlvsSo6B2"
   },
   "source": [
    "## Indexing\n",
    "1. Look at values of variables $A$, $B$, and $y$ from the last exercise"
   ]
  },
  {
   "cell_type": "code",
   "execution_count": null,
   "metadata": {
    "id": "fUftlCsBo6B3",
    "outputId": "c56f3b1e-1934-4a12-a492-2295967615cd"
   },
   "outputs": [
    {
     "name": "stdout",
     "output_type": "stream",
     "text": [
      "[[ 1  2  3]\n",
      " [ 4  5  6]\n",
      " [ 7  8 10]]\n",
      "[[1 1 1]\n",
      " [2 5 8]\n",
      " [3 6 9]]\n"
     ]
    }
   ],
   "source": [
    "print(A)\n",
    "print(B)"
   ]
  },
  {
   "cell_type": "markdown",
   "metadata": {
    "id": "nPQkBVMSo6B_"
   },
   "source": [
    "2. Access the second element in the third row of $A$ and the first element in the second row of $B$, and compute their product"
   ]
  },
  {
   "cell_type": "code",
   "execution_count": null,
   "metadata": {
    "id": "p6Ox7Tlxo6CF",
    "outputId": "72a9aaf4-b485-42fc-801f-3dba0d877531"
   },
   "outputs": [
    {
     "data": {
      "text/plain": [
       "16"
      ]
     },
     "execution_count": 106,
     "metadata": {
      "tags": []
     },
     "output_type": "execute_result"
    }
   ],
   "source": [
    "A[2][1] * B[1][0]"
   ]
  },
  {
   "cell_type": "markdown",
   "metadata": {
    "id": "Xr8d9WaJo6CP"
   },
   "source": [
    "3. Multiply the first row of $A$ and the third column of $B$"
   ]
  },
  {
   "cell_type": "code",
   "execution_count": null,
   "metadata": {
    "id": "3W7qu2Y7o6CQ",
    "outputId": "475fc4a2-1380-4887-980a-2495948cc941"
   },
   "outputs": [
    {
     "name": "stdout",
     "output_type": "stream",
     "text": [
      "[1 8 9]\n",
      "[1 2 3]\n"
     ]
    },
    {
     "data": {
      "text/plain": [
       "44"
      ]
     },
     "execution_count": 123,
     "metadata": {
      "tags": []
     },
     "output_type": "execute_result"
    }
   ],
   "source": [
    "print(B[:, 2])\n",
    "print(A[0])\n",
    "np.dot(A[0], B[:, 2])"
   ]
  },
  {
   "cell_type": "markdown",
   "metadata": {
    "id": "1-C4TZ4Eo6CZ"
   },
   "source": [
    "4. Access the elements of y that are greater than 1 (without looking up their position manually)"
   ]
  },
  {
   "cell_type": "code",
   "execution_count": null,
   "metadata": {
    "id": "SjTw0JQVo6Ca",
    "outputId": "c5a285d3-42b1-4a4b-dc4b-9ec6eb314428"
   },
   "outputs": [
    {
     "name": "stdout",
     "output_type": "stream",
     "text": [
      "[2]\n",
      "[3]\n"
     ]
    }
   ],
   "source": [
    "for element in y:\n",
    "    if element > 1:\n",
    "        print(element)"
   ]
  },
  {
   "cell_type": "markdown",
   "metadata": {
    "id": "ji198su5o6Cm"
   },
   "source": [
    "5. Access the elements of A in the second column, for which the values in the first column are greater or equal to 4)"
   ]
  },
  {
   "cell_type": "code",
   "execution_count": null,
   "metadata": {
    "id": "Mm7IKmbgo6Cq",
    "outputId": "5c830e91-7308-43d4-b7dc-090e8800cf07"
   },
   "outputs": [
    {
     "name": "stdout",
     "output_type": "stream",
     "text": [
      "5\n",
      "8\n"
     ]
    }
   ],
   "source": [
    "for index in range(0,3):\n",
    "    if A[index,0] >= 4:\n",
    "        print(A[index,1])"
   ]
  },
  {
   "cell_type": "markdown",
   "metadata": {
    "id": "o5PR6MfHo6C3"
   },
   "source": [
    "6. Access the 4th row of A. If this returns an error message, use Google to investigate the problem and find out what went wrong."
   ]
  },
  {
   "cell_type": "code",
   "execution_count": null,
   "metadata": {
    "id": "S1_0MkIgo6C4",
    "outputId": "5ac8bc4a-135b-4b86-f664-36a1122db91f"
   },
   "outputs": [
    {
     "ename": "IndexError",
     "evalue": "index 4 is out of bounds for axis 0 with size 3",
     "output_type": "error",
     "traceback": [
      "\u001b[0;31m---------------------------------------------------------------------------\u001b[0m",
      "\u001b[0;31mIndexError\u001b[0m                                Traceback (most recent call last)",
      "\u001b[0;32m<ipython-input-135-51c27bc21aa8>\u001b[0m in \u001b[0;36m<module>\u001b[0;34m\u001b[0m\n\u001b[0;32m----> 1\u001b[0;31m \u001b[0mA\u001b[0m\u001b[0;34m[\u001b[0m\u001b[0;36m4\u001b[0m\u001b[0;34m]\u001b[0m\u001b[0;34m\u001b[0m\u001b[0;34m\u001b[0m\u001b[0m\n\u001b[0m",
      "\u001b[0;31mIndexError\u001b[0m: index 4 is out of bounds for axis 0 with size 3"
     ]
    }
   ],
   "source": [
    "A[4]\n",
    "#index out of bounds --> there is no element here, no row in the matrix"
   ]
  },
  {
   "cell_type": "markdown",
   "metadata": {
    "id": "yLhhT15Uo6C8"
   },
   "source": [
    "## Custom functions\n",
    "For many statistical applications it is practical to standardize variable values. One way to standardize is *centering and scaling*. In simple words, we make the variables comparable by reducing them to the same scale.\n",
    "\n",
    "Start with implementing a custom function. Your function should take an argument **x**. To keep things simple, we expect x to always be a numeric vector (and not text or a matrix, for example). In the body of the function, calculate the mean and standard deviation of **x**. Store the results in variables  **mu** and **std**, respectively. Then for each element in the vector, substract the mean and divide by the standard deviation.\n",
    "$$ x_{new} = \\frac{x-\\mu}{std}$$\n",
    "Make sure your functions **returns** the standardized vector (i.e., $x_new$ in the equation) as result. You might want to import `NumPy` for calculating the mean and standard deviation."
   ]
  },
  {
   "cell_type": "code",
   "execution_count": 2,
   "metadata": {
    "id": "Iojh8v0Po6C8"
   },
   "outputs": [],
   "source": [
    "def standardize (x):\n",
    "    #convert the possible regular array into a numpy array \n",
    "    np_x = np.array(x)\n",
    "    print(np_x.dtype)\n",
    "    # check if ANY of the values inside the numpy array are NaN = Not a number.\n",
    "    try:\n",
    "        #Try: attempt to execute the code below, if it returns an error, the except block gets executed\n",
    "        np.isnan(np_x).any()\n",
    "    except:\n",
    "        # if the try block fails, return this (stops any futher instructions, function would end here)\n",
    "        return ('Error, vector is not numeric, it is of type {}').format(np_x.dtype)\n",
    "        \n",
    "    \n",
    "    mu = np.mean(x)\n",
    "    std = np.std(x)\n",
    "    print(mu)\n",
    "    print(std)\n",
    "    \n",
    "    #create a new emtpy array to store the standardized values of the original vector\n",
    "    xnew = np.array([])\n",
    "    for element in x:\n",
    "        #loop through each element of the original vector, apply the standardization calculation and append (\"roughly meaning add\") the new value to the before created vector \n",
    "        xnew = np.append(xnew, ((element - mu) / std))\n",
    "    return xnew\n"
   ]
  },
  {
   "cell_type": "markdown",
   "metadata": {
    "id": "A5gt2mbdo6DN"
   },
   "source": [
    "You should always test your functions. Create a vector **a** with the elements (-100, -25, -10, 0, 10, 25, 100) and check if your function produces the correct result.     "
   ]
  },
  {
   "cell_type": "code",
   "execution_count": null,
   "metadata": {
    "id": "YIZi037oo6DP",
    "outputId": "483b0063-a9ad-41ea-e5df-ea85c026f235"
   },
   "outputs": [
    {
     "name": "stdout",
     "output_type": "stream",
     "text": [
      "int64\n",
      "0.0\n",
      "55.35599077142161\n",
      "[-1.80648921 -0.4516223  -0.18064892  0.          0.18064892  0.4516223\n",
      "  1.80648921]\n"
     ]
    }
   ],
   "source": [
    "a = np.array([-100, -25, -10, 0, 10, 25, 100])\n",
    "print(standardize(a))"
   ]
  },
  {
   "cell_type": "code",
   "execution_count": 5,
   "metadata": {
    "id": "m7ZSWdn3o6DT",
    "outputId": "f233a551-ff1c-43d7-885b-fcea484bae9d"
   },
   "outputs": [
    {
     "name": "stdout",
     "output_type": "stream",
     "text": [
      "int64\n",
      "<class 'numpy.ndarray'>\n",
      "2.0\n",
      "0.816496580927726\n"
     ]
    },
    {
     "data": {
      "text/plain": [
       "array([-1.22474487,  0.        ,  1.22474487])"
      ]
     },
     "execution_count": 5,
     "metadata": {},
     "output_type": "execute_result"
    }
   ],
   "source": [
    "b = np.array([1,2,3])\n",
    "standardize(b)"
   ]
  },
  {
   "cell_type": "markdown",
   "metadata": {
    "id": "0uu_yg8Xo6DW"
   },
   "source": [
    "*Optional*: Create a vector **b** with elements (\"1\", \"2\", \"3\") and check the function. Let's include a simple check in the function and give feedback. Before doing any calculations, use `if()` and `type()` to check if the input is a numeric vector. There are many ways to code the condition *x is numeric* in Python. Run a quick web search and use a simple approach. If the input is not numeric, skip the computations and print a message \"input not numeric\"."
   ]
  },
  {
   "cell_type": "code",
   "execution_count": null,
   "metadata": {
    "id": "t2ho3_mdo6DW",
    "outputId": "cb45c531-4bb0-4b89-c654-cf3b72575480"
   },
   "outputs": [
    {
     "name": "stdout",
     "output_type": "stream",
     "text": [
      "<U5\n"
     ]
    },
    {
     "data": {
      "text/plain": [
       "'Error, vector is not numeric, it is of type <U5'"
      ]
     },
     "execution_count": 252,
     "metadata": {
      "tags": []
     },
     "output_type": "execute_result"
    }
   ],
   "source": [
    "c = ['ssdas', '2', 2, 10.5]\n",
    "standardize(c)"
   ]
  },
  {
   "cell_type": "markdown",
   "metadata": {
    "id": "KM5EZdT6o6Da"
   },
   "source": [
    "## Data structures \n",
    "Say you want to keep track of the members of the four houses of the famous Hogwarts School of Witchcraft and Wizardry. What might be a suitable data structure. We create a dictionary named **hogwarts** and use the names of the houses as keys. Then, the values associated with those keys could be any type that supports storing a set of strings, i.e., to store the names of the members. Draw on your knowledge of Python dictionaries and list to implement such a data structure. Populate the dictionary with the following data, and feel free to add more characters if you wish. \n",
    "\n",
    "- Gryffindor: I'm sure you know many members of that house \n",
    "- Hufflepuff: notable members include Newt Scamander, Cedric Diggory and Nymphadora Tonks\n",
    "- Ravenclaw: here we've got, e.g. Newt Scamander, Cedric Diggory and Nymphadora Tonks\n",
    "- Slytherin: Draco Malfoy, Vincent Crabbe, Gregory Goyle, and of course the one that must not be named"
   ]
  },
  {
   "cell_type": "code",
   "execution_count": null,
   "metadata": {
    "id": "DMslMK2fo6Db"
   },
   "outputs": [],
   "source": [
    "hogwarts = {'gryffindor':[\"Harry Potter\", \"Hermione\", \"Ron\"], 'hufflepuff': [\"Newt Scamander\", \"Cedric Diggory\", \"Nymphadora Tonks\"], 'ravenclaw':[\"Newt Scamander\", \"Cedric Diggory\", \"Nymphadora Tonks\"], 'slytherin':[\"Draco Malfoy\",\"Vincent Crabbe\", \"Gregory Goyle\",\"the one that must not be named\"]}"
   ]
  },
  {
   "cell_type": "markdown",
   "metadata": {
    "id": "kNDT3MtHo6Dm"
   },
   "source": [
    "Dictionaries are really useful. Still our above data structure is limited. We can only store the name of a witch or wizard. Wouldn't it be cool to be able to store more information, something like her/his favored charm, best friend, pet, etc. \n",
    "\n",
    "Think about how we could realize this functionality. Well, we could create yet another dictionary in which we use a witch's/wizard's name as key and as value some some other data structure in which we can store all the details we like. To our knowledge, the names of witches / wizards are unique in the Harry Potter universe, so that names could serve as (unique) keys; nerd alert. Still a dictionary of dictionaries sounds pretty complicated. In fact, the task we described above is a perfect use case of customer classes. They allow us to store any piece of information about a person at one place.\n",
    "\n",
    "Create a custom class wizard that facilitates storing the following properties:\n",
    "- First name\n",
    "- Last name\n",
    "- Pet\n",
    "- Pet name\n",
    "- Patronus shape\n",
    "\n",
    "\n",
    "Also implement a method `tell_pet()`that prints an output of the following format:\n",
    "*\"Harry Potter's owl is called Hedwig.\"* \n",
    "\n",
    "Implement one more  method `expecto_patronum()`. Calling that method for Harry would produce the output (print):\n",
    "*\"A stag appears.\"*"
   ]
  },
  {
   "cell_type": "code",
   "execution_count": null,
   "metadata": {
    "id": "L6uj8X7Xo6Dn"
   },
   "outputs": [],
   "source": [
    "class wizard():\n",
    "    def __init__(self, first_name, last_name, pet, pet_name, pastronus_shape):\n",
    "        self.first_name = first_name\n",
    "        self.last_name = last_name\n",
    "        self.pet = pet\n",
    "        self.pet_name = pet_name\n",
    "        self.pastronus_shape = pastronus_shape\n",
    "    def tell_pet(self):\n",
    "        print(\"{}'s {} is called {}'\".format(self.first_name, self.pet, self.pet_name))\n",
    "    def expecto_patronum(self):\n",
    "        print(\"A {} appears\".format(self.pastronus_shape))"
   ]
  },
  {
   "cell_type": "markdown",
   "metadata": {
    "id": "UiWYMxcyo6Dq"
   },
   "source": [
    "Update your dictionary with schools and their members. Instead of storing a list of names as values, your new dictionary should store a list of instances of the class wizard. Note that you need to create these instances first. So you need to create an instance of class wizard for Harry, another one for Ron, Malfoy, etc. In case your knowledge of the Potter universe is a bit shaky, just invent the data you need. Just in case, [here is a ittle refresher of the expecto patronum spell](https://www.insider.com/harry-potter-characters-patronus-2018-11)."
   ]
  },
  {
   "cell_type": "code",
   "execution_count": null,
   "metadata": {
    "id": "J12aHT-vo6Dq",
    "outputId": "3bf959a3-ec94-468e-870f-887661dea3fc"
   },
   "outputs": [
    {
     "name": "stdout",
     "output_type": "stream",
     "text": [
      "Harry\n",
      "{'gryffindor': [<__main__.wizard object at 0x7fa6ba573580>, <__main__.wizard object at 0x7fa6ba573310>]}\n"
     ]
    }
   ],
   "source": [
    "harry = wizard(\"Harry\", \"Potter\", \"owl\", \"Hedwig\", \"Stag\")\n",
    "hemione = wizard(\"Hermione\", \"??\", \"??\", \"??\", \"??\")\n",
    "print(harry.first_name)\n",
    "\n",
    "hogwarts = {'gryffindor': [harry, hemione]}\n",
    "print(hogwarts)"
   ]
  },
  {
   "cell_type": "markdown",
   "metadata": {
    "id": "N09wUAp7o6D2"
   },
   "source": [
    "## Well done!!!"
   ]
  }
 ],
 "metadata": {
  "colab": {
   "name": "1_ex_python.ipynb",
   "provenance": []
  },
  "kernelspec": {
   "display_name": "Python 3",
   "language": "python",
   "name": "python3"
  },
  "language_info": {
   "codemirror_mode": {
    "name": "ipython",
    "version": 3
   },
   "file_extension": ".py",
   "mimetype": "text/x-python",
   "name": "python",
   "nbconvert_exporter": "python",
   "pygments_lexer": "ipython3",
   "version": "3.8.5"
  }
 },
 "nbformat": 4,
 "nbformat_minor": 1
}
