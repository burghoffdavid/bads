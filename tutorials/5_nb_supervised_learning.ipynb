{
 "cells": [
  {
   "cell_type": "markdown",
   "metadata": {
    "id": "Ka20bzp6PcNj"
   },
   "source": [
    "[![Open In Colab](https://colab.research.google.com/assets/colab-badge.svg)](https://colab.research.google.com/github/Humboldt-WI/bads/blob/master/tutorials/5_nb_supervised_learning.ipynb) \n"
   ]
  },
  {
   "cell_type": "markdown",
   "metadata": {
    "id": "swSaDjWvNDnY"
   },
   "source": [
    "# Chapter 5 - Algorithms for supervised learning \n",
    "The fifth chapter revisits two popular algorithms for supervised learning, the logistic regression model and classification and regression trees (CART). We examine their mathematical and statistical underpinnings to fully understand how logit and CART craft a model. Of course, we also exemplify how to use both algorithms in practice together with `sklearn`.  \n",
    "\n",
    "The outline of the tutorial is as follows:\n",
    "- Logistic regression\n",
    "  - The logistic function\n",
    "  - Maximum likelihood estimation\n",
    "  - Logistic regression from scratch\n",
    "  - Libraries for logistic regression\n",
    "- Decision trees\n",
    "  - Implementing a tree algorithm from scratch\n",
    "  - Decision trees with `sklearn`\n"
   ]
  },
  {
   "cell_type": "markdown",
   "metadata": {
    "id": "HjtJpOmnVf2K"
   },
   "source": [
    "# Logistic regression\n",
    "We learned from the lecture that the logistic model is the 'go-to model' for regression problems with a discrete target variable. Such problems are called classification problems. We can think of logit as the equivalent to linear regression for classification problem. Formally speaking, logistic regression belongs to the wider family of **generalized linear models (GLM)**. It is a generalization of a linear model in that it embodies the well-known linear form $\\beta x$ and adds a (non-linear) **link function** that connects the linear form to the target variable. In the case of logistic regression, the link function is the logistic function. Other GLMs use different link functions, but these are out of scope. So let us first examine the logistuc function."
   ]
  },
  {
   "cell_type": "markdown",
   "metadata": {
    "id": "k68aGAQ_Vf2L"
   },
   "source": [
    "## The logistic function\n",
    "We implement the logistic function as a custom Python function and then generate some data to plot the function over the interval from -4 to 4 [-4, -3, ..., 4]. \n",
    "Recall that the form of the function for input variable $z$ is $f(z) = \\frac{1}{1 + \\exp^{-z}}$. "
   ]
  },
  {
   "cell_type": "code",
   "execution_count": 1,
   "metadata": {
    "colab": {
     "base_uri": "https://localhost:8080/",
     "height": 309
    },
    "id": "xSZq_kegVf2L",
    "outputId": "765d13cf-6c1b-4407-fc0e-d4db40a049cc"
   },
   "outputs": [
    {
     "data": {
      "text/plain": [
       "Text(0.5, 0, 'z')"
      ]
     },
     "execution_count": 1,
     "metadata": {},
     "output_type": "execute_result"
    },
    {
     "data": {
      "image/png": "[encoded data removed]",
      "text/plain": [
       "<Figure size 432x288 with 1 Axes>"
      ]
     },
     "metadata": {
      "needs_background": "light"
     },
     "output_type": "display_data"
    }
   ],
   "source": [
    "import numpy as np\n",
    "import matplotlib.pyplot as plt\n",
    "\n",
    "# we implement the logistic function as a custom function\n",
    "def logistic_fun(z):\n",
    "    return 1/(1+np.exp(-z))\n",
    "\n",
    "\n",
    "# create some data for plotting\n",
    "z = np.linspace(-4, 4)\n",
    "\n",
    "fz = logistic_fun(z)\n",
    "plt.title(\"The logistic function exemplified\", fontsize='small')\n",
    "plt.plot(z, fz);\n",
    "plt.plot(z, np.repeat(0.5, len(z)), \".\");  #  just for fun, add a horizontal line to highlight 0.5\n",
    "plt.ylabel(\"$f(z)$\")\n",
    "plt.xlabel(\"z\")"
   ]
  },
  {
   "cell_type": "markdown",
   "metadata": {
    "id": "0QgT5fS6Vf2S"
   },
   "source": [
    "It is a good exercise to check how changes in the above implementation change the plot. For example, you could add a constant multiplier and calculate $e^{(-\\alpha z)} $ instead of $e^{(-z)}$, and check how the shape of the function changes with $\\alpha$. \n"
   ]
  },
  {
   "cell_type": "markdown",
   "metadata": {
    "id": "gzDNTwuGVf2T"
   },
   "source": [
    "## Maximum likelihood estimation & gradient boosting\n",
    "Estimating a logistic regression model involves minimizing the negative **log-likelihood** function. We discussed this in the lecture and experience suggests that some find this a little tough to digest, probably because of its formality. We will try to demystify the model by implementing it from scratch. For starters, however, recall that logistic regression models the probability of observing a certain state of our target variable $y$ by means of the logistic function. We assume a zero-one coded binary target variable $y \\in {0, 1}$ Then, we can write the logit model as follows:\n",
    "\n",
    "$$ p \\left( y=1|\\mathbf x \\right) = \\frac{1}{1+e^{-z}}, \\text{  and  }  p \\left( y=0| \\mathbf x \\right) = 1- p \\left( y=1|\\mathbf x \\right) $$\n",
    "\n",
    "where $z$ is defined as a linear, additive function of the features: $z=\\beta_0+\\beta x$. Assuming our data fulfills the IID assumption, we can write down the log-likelihood function: \n",
    "\n",
    "$$ \\mathcal{L} = \\frac{1}{n} \\sum^{n}_{i=1} \\left[ y_i \\log \\left(p \\left( y=1|\\mathbf x \\right) \\right) + \\left(1-y_i\\right) \\log \\left(1-p \\left( y=1|\\mathbf x \\right) \\right)\\right]. $$\n",
    "\n",
    "We need to now find the values of $ \\hat{\\beta} $ which minimize this function so it will be necessary to take its derivative which is as follows:\n",
    "$$ \\frac{\\mathrm d \\mathcal{L}}{\\mathrm d \\mathbf x} = ( p \\left( y=1|\\mathbf x \\right)  - y_i) \\mathbf x $$\n",
    "\n",
    "In the most ideal world, we would be able to make an estimation $ \\hat{\\beta_i} $ for coefficients in our $ z $ function which would set this derivative to 0. However, this is not possible since the function is too complex. As such, we need to use another method. **Gradient descent** is the process of iteratively making changes to $ \\hat{\\beta_i} $ to assess which values lower the derivative value and, therefore, hopefully brings us closer to a minimum. Note that this may unfortunately not be the global minimum of the function but rather a local minimum. This is especially true if we have many coefficients or if any relationships are very complicated. Additionally, if we change $ \\hat{\\beta_i} $ by too much in one iteration, we may end up overshooting a minimum which is counterproductive. In order to avoid this, we multiply the total difference by the learning rate $ \\gamma $ to dampen the update to $ \\hat{\\beta_i} $. If the learning rate is too low however, we may end up sabotaging ourselves as the function loses too much momentum in its updates. It is a good idea to experiment with a few different rates to see which one works best with your data.\n",
    "\n",
    "Here is an equation which represents gradient descent:\n",
    "$$ \\hat{\\beta_i} = \\hat{\\beta}_{i-1} - \\gamma \\Delta( \\hat{\\beta}_{i-1}) \\text{ if } || \\hat{\\beta}_i - \\hat{\\beta}_{i-1} || > \\epsilon $$\n",
    "\n",
    "For an alternative explanation, check out the [Wikipedia page for *gradient descent*](https://en.wikipedia.org/wiki/Gradient_descent). It will be crucial for you to understand this process, so take advantage of online resources to improve your understanding. There are also many ways to modify this process like stochastic gradient boosting or adaptive learning rates which you will undoubtedly come across later in the field."
   ]
  },
  {
   "cell_type": "code",
   "execution_count": 2,
   "metadata": {
    "colab": {
     "base_uri": "https://localhost:8080/"
    },
    "id": "I4JvbfcMVf2U",
    "outputId": "3e15d8b1-0f60-4e9d-ddf3-c76523f94e4a"
   },
   "outputs": [
    {
     "name": "stdout",
     "output_type": "stream",
     "text": [
      "Shape of X (500, 2)\n",
      "Shape of y (500,)\n"
     ]
    }
   ],
   "source": [
    "# Create synthetic data for classification using sklearn\n",
    "from sklearn.datasets import make_classification\n",
    "\n",
    "X, y = make_classification(n_features=2, n_redundant=0, n_informative=2, n_clusters_per_class=1, n_samples=500)\n",
    "\n",
    "# Always useful to remind oneself of the dimensions of a data set\n",
    "print(\"Shape of X {}\".format(X.shape))  \n",
    "print(\"Shape of y {}\".format(y.shape))"
   ]
  },
  {
   "cell_type": "markdown",
   "metadata": {
    "id": "ETsdtRdkRLin"
   },
   "source": [
    "## Logistic Regression from scratch\n",
    "\n",
    "We can create a logistic regression function from scratch based on this [medium article](https://medium.com/@martinpella/logistic-regression-from-scratch-in-python-124c5636b8ac). First, we need some data. To that end, we will re-use the approach for synthetic data creation from [Tutorial 3](https://github.com/Humboldt-WI/bads/blob/master/tutorials/3_nb_predictive_analytics.ipynb). The following code wraps up the Tutorial #3 codes in a custom function. Alternatively, we could have used the function `make_classification` from `sklearn`. We like our approach a little better but feel most free to change the data generation approach and try out the example using the `sklearn` data."
   ]
  },
  {
   "cell_type": "markdown",
   "metadata": {
    "id": "PWv60eLVDmyT"
   },
   "source": [
    "### Synthetic data generation"
   ]
  },
  {
   "cell_type": "code",
   "execution_count": 3,
   "metadata": {
    "id": "7O1rqLbODmyT"
   },
   "outputs": [],
   "source": [
    "def toy_data(n=1000, mu1=[1,1], mu2=[4, 4], sig1=1, sig2=1):\n",
    "    \"\"\" Customer function to generate linearly seperable toy data. The code has been discussed in more detail in Tutorial #3.\n",
    "        \n",
    "        The arguments represent, respectively, the size of the data, the mean vectors of the two Gaussians from which we\n",
    "        sample class 1 and class 2 data points, and their standard deviations.\n",
    "    \"\"\"\n",
    "    \n",
    "    class1_x1 = np.random.normal(loc=mu1[0], scale=sig1, size=n)\n",
    "    class1_x2 = np.random.normal(loc=mu1[1], scale=sig1, size=n)\n",
    "\n",
    "    class2_x1 = np.random.normal(loc=mu2[0], scale=sig2, size=n)\n",
    "    class2_x2 = np.random.normal(loc=mu2[1], scale=sig2, size=n)\n",
    "\n",
    "    y1 = np.repeat(0, n)\n",
    "    y2 = np.repeat(1, n)\n",
    "\n",
    "    class1 = np.vstack((class1_x1, class1_x2)).T\n",
    "    class2 = np.vstack((class2_x1, class2_x2)).T\n",
    "\n",
    "    X = np.vstack((class1,class2))\n",
    "    y = np.concatenate((y1,y2))\n",
    "    \n",
    "    return X, y"
   ]
  },
  {
   "cell_type": "code",
   "execution_count": 4,
   "metadata": {
    "colab": {
     "base_uri": "https://localhost:8080/"
    },
    "id": "0ym5oBSTDmyX",
    "outputId": "70774385-334a-48d1-81aa-4450237783b2"
   },
   "outputs": [
    {
     "name": "stdout",
     "output_type": "stream",
     "text": [
      "Shape of X (2000, 2)\n",
      "Shape of y (2000,)\n"
     ]
    }
   ],
   "source": [
    "# Create and plot the data\n",
    "X, y = toy_data()\n",
    "\n",
    "# Always useful to remind oneself of the dimensions of a data set\n",
    "print(\"Shape of X {}\".format(X.shape))  \n",
    "print(\"Shape of y {}\".format(y.shape))"
   ]
  },
  {
   "cell_type": "code",
   "execution_count": 5,
   "metadata": {
    "colab": {
     "base_uri": "https://localhost:8080/",
     "height": 278
    },
    "id": "gFoMDi41Vf2b",
    "outputId": "7a6efe09-8177-4e3b-c60e-ae52971fa455"
   },
   "outputs": [
    {
     "data": {
      "image/png": "[encoded data removed]",
      "text/plain": [
       "<Figure size 432x288 with 1 Axes>"
      ]
     },
     "metadata": {
      "needs_background": "light"
     },
     "output_type": "display_data"
    }
   ],
   "source": [
    "# Here is the code to plot the data\n",
    "plt.title(\"Synthetic classification data set\", fontsize='small')\n",
    "plt.scatter(X[:, 0], X[:, 1], c=y, alpha=.5, marker='x');"
   ]
  },
  {
   "cell_type": "markdown",
   "metadata": {
    "id": "gqBHE9146JjJ"
   },
   "source": [
    "### Helper function for the logit model\n",
    "We already defined the logistic function. We do it again to have all codes at a single space. This is only to aid readability. Note that data scientists very commonly refer to the logistic function as the **sigmoid**. The name relates to a class of learning machines called *artificial neural networks*, which are the backbone of deep learning. We use this term below, simply because it is sooo common and because we already used the logistic function for our above implementation."
   ]
  },
  {
   "cell_type": "code",
   "execution_count": 7,
   "metadata": {
    "id": "eYv3EuJVu90F"
   },
   "outputs": [],
   "source": [
    "def sigmoid(z):\n",
    "    return 1 / (1 + np.exp(-z))"
   ]
  },
  {
   "cell_type": "markdown",
   "metadata": {
    "id": "kWMS3zIE6ahA"
   },
   "source": [
    "We also need a loss function whose gradient we will determine which way to adjust parameters. Essentially, this is just our log-likelihood function. Easy enough to implement it in Python."
   ]
  },
  {
   "cell_type": "code",
   "execution_count": 8,
   "metadata": {
    "id": "Pg0Zn7OywTFH"
   },
   "outputs": [],
   "source": [
    "def loss(h, y):\n",
    "    return (-y * np.log(h) - (1 - y) * np.log(1 - h)).mean()"
   ]
  },
  {
   "cell_type": "markdown",
   "metadata": {
    "id": "oud8yNf1V_i_"
   },
   "source": [
    "Now we can use the previous functions to create a new logistic regression function which returns weights (intercept and coefficients) for future predictions."
   ]
  },
  {
   "cell_type": "code",
   "execution_count": 9,
   "metadata": {
    "id": "0k3PuDa9YDyL"
   },
   "outputs": [],
   "source": [
    "def get_logit_weights(X, y, lr=0.01, num_iter=100000, fit_intercept=True, verbose=False):\n",
    "    \n",
    "    # Add intercept to the model if needed\n",
    "    if fit_intercept:\n",
    "      intercept = np.ones((X.shape[0], 1))\n",
    "      X = np.concatenate((intercept, X), axis=1)\n",
    "        \n",
    "    weights = np.zeros(X.shape[1]) # initialize weights\n",
    "    \n",
    "    for i in range(num_iter): # travels down the gradient as many times as there are iterations\n",
    "        z = np.dot(X, weights)\n",
    "        h = sigmoid(z)\n",
    "        gradient = np.dot(X.T, (h - y)) / y.size\n",
    "        weights -= lr * gradient\n",
    "            \n",
    "    if(verbose == True and i % 10000 == 0): # checks loss at each iteration\n",
    "        z = np.dot(X, weights)\n",
    "        h = sigmoid(z)\n",
    "        loss_val = loss(h, y)\n",
    "        print(f'loss: {loss_val} \\t')\n",
    "    return weights"
   ]
  },
  {
   "cell_type": "markdown",
   "metadata": {
    "id": "ruq6ZopYC-jc"
   },
   "source": [
    "Lastly, we will want our function to end up predicting probabilities for new data based on the old function's weights. We can also supply a sklearn-like `predict()` function, which returns discrete class predictions using some **cut-off**, which we set to 0.5 by default. We can then compare this predicted value to the true labels and calculate the mean error or mean accuracy. "
   ]
  },
  {
   "cell_type": "code",
   "execution_count": 10,
   "metadata": {
    "id": "d3pGMkA5uS3J"
   },
   "outputs": [],
   "source": [
    "def predict_prob(X, weights, fit_intercept=True):\n",
    "    if fit_intercept:\n",
    "        intercept = np.ones((X.shape[0], 1))\n",
    "        X = np.concatenate((intercept, X), axis=1)\n",
    "    return sigmoid(np.dot(X, weights))"
   ]
  },
  {
   "cell_type": "code",
   "execution_count": 11,
   "metadata": {
    "id": "GmySMlJvxN1T"
   },
   "outputs": [],
   "source": [
    "def predict(X, weights, fit_intercept=True, threshold=0.5):\n",
    "    predictions = predict_prob(X, weights, fit_intercept=fit_intercept) >= threshold\n",
    "    predictions = np.where(predictions==False, 0, predictions)\n",
    "    predictions = np.where(predictions==True, 1, predictions)\n",
    "    return predictions"
   ]
  },
  {
   "cell_type": "markdown",
   "metadata": {
    "id": "CQwxEi9D1Qtn"
   },
   "source": [
    "Now we can train our model on the data that we have generated to get the intercept (first number in the weights array) and coefficients (the subsequent numbers in the array). "
   ]
  },
  {
   "cell_type": "code",
   "execution_count": 12,
   "metadata": {
    "id": "LiW-bUPf5c1Q"
   },
   "outputs": [],
   "source": [
    "weights = get_logit_weights(X, y)"
   ]
  },
  {
   "cell_type": "code",
   "execution_count": 13,
   "metadata": {
    "colab": {
     "base_uri": "https://localhost:8080/"
    },
    "id": "6SCqiUuuiTYH",
    "outputId": "4f9861d1-9773-4f29-f7f0-47044d58c099"
   },
   "outputs": [
    {
     "name": "stdout",
     "output_type": "stream",
     "text": [
      "[-10.64876125   2.00160922   2.25717713]\n"
     ]
    }
   ],
   "source": [
    "print(weights)"
   ]
  },
  {
   "cell_type": "markdown",
   "metadata": {
    "id": "9dL4NVcq4K_C"
   },
   "source": [
    "Ok, does maybe not look exciting but, believe it or not, these three numbers are our **logit model**. Really? Yes. This is all you need to calculate forecasts from a logistic regression models. Three values, these are the estimates of the unknown parameters. Two coefficients - one each for the features - and one intercept, so three numbers for our toy data. \n",
    "\n",
    "All set, we are ready to put our model into production and estimate, for each case in our data, the probabilities of that case belonging to class 1. "
   ]
  },
  {
   "cell_type": "code",
   "execution_count": 14,
   "metadata": {
    "colab": {
     "base_uri": "https://localhost:8080/"
    },
    "id": "QBMwMlJyEl6S",
    "outputId": "54f0f884-d5ed-4e33-bef4-c77a98d02d6b"
   },
   "outputs": [
    {
     "name": "stdout",
     "output_type": "stream",
     "text": [
      "[0.00028269 0.07999189 0.03954311 0.00011556 0.00117149]\n"
     ]
    }
   ],
   "source": [
    "results = predict_prob(X, weights, fit_intercept=True)\n",
    "\n",
    "print(results[:5])"
   ]
  },
  {
   "cell_type": "code",
   "execution_count": 15,
   "metadata": {
    "colab": {
     "base_uri": "https://localhost:8080/"
    },
    "id": "0p2TkHAErH7P",
    "outputId": "afed5f5e-eb5e-4cf4-9529-a2ccfb97c611"
   },
   "outputs": [
    {
     "name": "stdout",
     "output_type": "stream",
     "text": [
      "[0 0 0 0 0]\n"
     ]
    }
   ],
   "source": [
    "results = predict(X, weights, fit_intercept=True, threshold=0.5)\n",
    "\n",
    "print(results[:5])"
   ]
  },
  {
   "cell_type": "code",
   "execution_count": 16,
   "metadata": {
    "colab": {
     "base_uri": "https://localhost:8080/"
    },
    "id": "S3Ivh9cxrmEr",
    "outputId": "1e947220-7089-41b4-e5cc-7997a702c2bb"
   },
   "outputs": [
    {
     "data": {
      "text/plain": [
       "0.985"
      ]
     },
     "execution_count": 16,
     "metadata": {},
     "output_type": "execute_result"
    }
   ],
   "source": [
    "accuracy = y == results\n",
    "\n",
    "mean_accuracy = accuracy.sum() / len(accuracy)\n",
    "\n",
    "mean_accuracy"
   ]
  },
  {
   "cell_type": "markdown",
   "metadata": {
    "id": "CP6HSAeg4oX3"
   },
   "source": [
    "To conclude this example, recall that we introduced logistic regression as a linear classifier in the lecture. To convince ourselves that logit really creates a linear decision boundary, we plot this boundary into our feature space using the intercept found in `w[0]` and the two coefficients found in `w[1]` and `w[2]`. "
   ]
  },
  {
   "cell_type": "code",
   "execution_count": 17,
   "metadata": {
    "colab": {
     "base_uri": "https://localhost:8080/",
     "height": 281
    },
    "id": "TV266MtlAR3i",
    "outputId": "c18a11a5-ace7-476c-858c-b3795e27ea79"
   },
   "outputs": [
    {
     "data": {
      "image/png": "[encoded data removed]",
      "text/plain": [
       "<Figure size 432x288 with 1 Axes>"
      ]
     },
     "metadata": {
      "needs_background": "light"
     },
     "output_type": "display_data"
    }
   ],
   "source": [
    "w = weights[1:]\n",
    "xx = np.linspace(-2,6)\n",
    "\n",
    "a = -w[0] / w[1]\n",
    "b = -weights[0] / w[1]\n",
    "\n",
    "yy = a * xx + b\n",
    "\n",
    "fig = plt.figure()\n",
    "plt.scatter(X[:,0], X[:,1], c=y, alpha=.5, marker='x')\n",
    "plt.plot(xx,yy);\n",
    "plt.xlabel(\"$x_1$\");\n",
    "plt.ylabel(\"$x_2$\");"
   ]
  },
  {
   "cell_type": "markdown",
   "metadata": {},
   "source": [
    "Wow! Pause for effect!"
   ]
  },
  {
   "cell_type": "markdown",
   "metadata": {
    "id": "HUkvWfFsVf2m"
   },
   "source": [
    "## Libraries for logistic regression\n",
    "\n",
    "Now that we know that estimating a logistic regression model using the maximum likelihood approach is not some sort of dark magic, we might feel more comfortable with using libraries that hide all the details. In fact, you have already seen one such library in action in [Tutorial 3](https://colab.research.google.com/github/Humboldt-WI/bads/blob/master/tutorials/3_nb_predictive_analytics.ipynb). There, we used the `statsmodels` library to estimate a logit model. Let's revisit the corresponding codes. However, doing so for our toy data is pointless. It's time for a real-world data set and since we spent so much time on cleaning and preparing and understanding the HMEQ data in [Tutorial 4](https://colab.research.google.com/github/Humboldt-WI/bads/blob/master/tutorials/4_nb_data_preparation.ipynb), it would be a shame to not use it for demonstrating logistic regression on some real data. Remember that [Tutorial 4](https://colab.research.google.com/github/Humboldt-WI/bads/blob/master/tutorials/4_nb_data_preparation.ipynb) discusses that data set in detail, so simply go back to the previous tutorial is you need a refresher."
   ]
  },
  {
   "cell_type": "code",
   "execution_count": 18,
   "metadata": {
    "id": "dkKRcRBRVf2n"
   },
   "outputs": [],
   "source": [
    "import pandas as pd \n",
    "import statsmodels.api as sm\n",
    "from statsmodels.tools.tools import add_constant\n",
    "# Load data from GitHub\n",
    "data_url = 'https://raw.githubusercontent.com/Humboldt-WI/bads/master/data/hmeq_modeling.csv' \n",
    "df = pd.read_csv(data_url, index_col=\"index\")"
   ]
  },
  {
   "cell_type": "markdown",
   "metadata": {
    "id": "1PLQ7buLVf2q"
   },
   "source": [
    "Let's take a quick look at the data to re-familiarize ourselves with the classification task."
   ]
  },
  {
   "cell_type": "code",
   "execution_count": 19,
   "metadata": {
    "id": "zhgFxnX5Vf2s",
    "outputId": "36b7b321-194c-4cd9-f006-7a905ca15757"
   },
   "outputs": [
    {
     "data": {
      "text/html": [
       "<div>\n",
       "<style scoped>\n",
       "    .dataframe tbody tr th:only-of-type {\n",
       "        vertical-align: middle;\n",
       "    }\n",
       "\n",
       "    .dataframe tbody tr th {\n",
       "        vertical-align: top;\n",
       "    }\n",
       "\n",
       "    .dataframe thead th {\n",
       "        text-align: right;\n",
       "    }\n",
       "</style>\n",
       "<table border=\"1\" class=\"dataframe\">\n",
       "  <thead>\n",
       "    <tr style=\"text-align: right;\">\n",
       "      <th></th>\n",
       "      <th>BAD</th>\n",
       "      <th>LOAN</th>\n",
       "      <th>MORTDUE</th>\n",
       "      <th>VALUE</th>\n",
       "      <th>YOJ</th>\n",
       "      <th>CLAGE</th>\n",
       "      <th>NINQ</th>\n",
       "      <th>CLNO</th>\n",
       "      <th>DEBTINC</th>\n",
       "      <th>DEROGzero</th>\n",
       "      <th>REASON_HomeImp</th>\n",
       "      <th>REASON_IsMissing</th>\n",
       "      <th>JOB_Office</th>\n",
       "      <th>JOB_Other</th>\n",
       "      <th>JOB_ProfExe</th>\n",
       "      <th>JOB_Sales</th>\n",
       "      <th>JOB_Self</th>\n",
       "      <th>DELINQcat_1</th>\n",
       "      <th>DELINQcat_1+</th>\n",
       "    </tr>\n",
       "    <tr>\n",
       "      <th>index</th>\n",
       "      <th></th>\n",
       "      <th></th>\n",
       "      <th></th>\n",
       "      <th></th>\n",
       "      <th></th>\n",
       "      <th></th>\n",
       "      <th></th>\n",
       "      <th></th>\n",
       "      <th></th>\n",
       "      <th></th>\n",
       "      <th></th>\n",
       "      <th></th>\n",
       "      <th></th>\n",
       "      <th></th>\n",
       "      <th></th>\n",
       "      <th></th>\n",
       "      <th></th>\n",
       "      <th></th>\n",
       "      <th></th>\n",
       "    </tr>\n",
       "  </thead>\n",
       "  <tbody>\n",
       "    <tr>\n",
       "      <th>0</th>\n",
       "      <td>True</td>\n",
       "      <td>-1.832283</td>\n",
       "      <td>-1.295882</td>\n",
       "      <td>-1.335526</td>\n",
       "      <td>0.266788</td>\n",
       "      <td>-1.075278</td>\n",
       "      <td>-0.065054</td>\n",
       "      <td>-1.297476</td>\n",
       "      <td>0.137456</td>\n",
       "      <td>True</td>\n",
       "      <td>1</td>\n",
       "      <td>0</td>\n",
       "      <td>0</td>\n",
       "      <td>1</td>\n",
       "      <td>0</td>\n",
       "      <td>0</td>\n",
       "      <td>0</td>\n",
       "      <td>0</td>\n",
       "      <td>0</td>\n",
       "    </tr>\n",
       "    <tr>\n",
       "      <th>1</th>\n",
       "      <td>True</td>\n",
       "      <td>-1.810666</td>\n",
       "      <td>-0.013474</td>\n",
       "      <td>-0.672699</td>\n",
       "      <td>-0.236615</td>\n",
       "      <td>-0.723092</td>\n",
       "      <td>-0.826792</td>\n",
       "      <td>-0.756608</td>\n",
       "      <td>0.137456</td>\n",
       "      <td>True</td>\n",
       "      <td>1</td>\n",
       "      <td>0</td>\n",
       "      <td>0</td>\n",
       "      <td>1</td>\n",
       "      <td>0</td>\n",
       "      <td>0</td>\n",
       "      <td>0</td>\n",
       "      <td>0</td>\n",
       "      <td>1</td>\n",
       "    </tr>\n",
       "    <tr>\n",
       "      <th>2</th>\n",
       "      <td>True</td>\n",
       "      <td>-1.789048</td>\n",
       "      <td>-1.654549</td>\n",
       "      <td>-1.839275</td>\n",
       "      <td>-0.668103</td>\n",
       "      <td>-0.368769</td>\n",
       "      <td>-0.065054</td>\n",
       "      <td>-1.189302</td>\n",
       "      <td>0.137456</td>\n",
       "      <td>True</td>\n",
       "      <td>1</td>\n",
       "      <td>0</td>\n",
       "      <td>0</td>\n",
       "      <td>1</td>\n",
       "      <td>0</td>\n",
       "      <td>0</td>\n",
       "      <td>0</td>\n",
       "      <td>0</td>\n",
       "      <td>0</td>\n",
       "    </tr>\n",
       "    <tr>\n",
       "      <th>3</th>\n",
       "      <td>True</td>\n",
       "      <td>-1.789048</td>\n",
       "      <td>-0.159552</td>\n",
       "      <td>-0.202559</td>\n",
       "      <td>-0.236615</td>\n",
       "      <td>-0.061033</td>\n",
       "      <td>-0.065054</td>\n",
       "      <td>-0.107566</td>\n",
       "      <td>0.137456</td>\n",
       "      <td>True</td>\n",
       "      <td>0</td>\n",
       "      <td>1</td>\n",
       "      <td>0</td>\n",
       "      <td>1</td>\n",
       "      <td>0</td>\n",
       "      <td>0</td>\n",
       "      <td>0</td>\n",
       "      <td>0</td>\n",
       "      <td>0</td>\n",
       "    </tr>\n",
       "    <tr>\n",
       "      <th>4</th>\n",
       "      <td>False</td>\n",
       "      <td>-1.767431</td>\n",
       "      <td>0.791699</td>\n",
       "      <td>0.311107</td>\n",
       "      <td>-0.811933</td>\n",
       "      <td>-1.088528</td>\n",
       "      <td>-0.826792</td>\n",
       "      <td>-0.756608</td>\n",
       "      <td>0.137456</td>\n",
       "      <td>True</td>\n",
       "      <td>1</td>\n",
       "      <td>0</td>\n",
       "      <td>1</td>\n",
       "      <td>0</td>\n",
       "      <td>0</td>\n",
       "      <td>0</td>\n",
       "      <td>0</td>\n",
       "      <td>0</td>\n",
       "      <td>0</td>\n",
       "    </tr>\n",
       "  </tbody>\n",
       "</table>\n",
       "</div>"
      ],
      "text/plain": [
       "         BAD      LOAN   MORTDUE     VALUE       YOJ     CLAGE      NINQ  \\\n",
       "index                                                                      \n",
       "0       True -1.832283 -1.295882 -1.335526  0.266788 -1.075278 -0.065054   \n",
       "1       True -1.810666 -0.013474 -0.672699 -0.236615 -0.723092 -0.826792   \n",
       "2       True -1.789048 -1.654549 -1.839275 -0.668103 -0.368769 -0.065054   \n",
       "3       True -1.789048 -0.159552 -0.202559 -0.236615 -0.061033 -0.065054   \n",
       "4      False -1.767431  0.791699  0.311107 -0.811933 -1.088528 -0.826792   \n",
       "\n",
       "           CLNO   DEBTINC  DEROGzero  REASON_HomeImp  REASON_IsMissing  \\\n",
       "index                                                                    \n",
       "0     -1.297476  0.137456       True               1                 0   \n",
       "1     -0.756608  0.137456       True               1                 0   \n",
       "2     -1.189302  0.137456       True               1                 0   \n",
       "3     -0.107566  0.137456       True               0                 1   \n",
       "4     -0.756608  0.137456       True               1                 0   \n",
       "\n",
       "       JOB_Office  JOB_Other  JOB_ProfExe  JOB_Sales  JOB_Self  DELINQcat_1  \\\n",
       "index                                                                         \n",
       "0               0          1            0          0         0            0   \n",
       "1               0          1            0          0         0            0   \n",
       "2               0          1            0          0         0            0   \n",
       "3               0          1            0          0         0            0   \n",
       "4               1          0            0          0         0            0   \n",
       "\n",
       "       DELINQcat_1+  \n",
       "index                \n",
       "0                 0  \n",
       "1                 1  \n",
       "2                 0  \n",
       "3                 0  \n",
       "4                 0  "
      ]
     },
     "execution_count": 19,
     "metadata": {},
     "output_type": "execute_result"
    }
   ],
   "source": [
    "df.head(5)"
   ]
  },
  {
   "cell_type": "code",
   "execution_count": 20,
   "metadata": {
    "id": "S_b8UOuPVf2x",
    "outputId": "64951662-a49d-4daf-ab5b-2644c84f095c"
   },
   "outputs": [
    {
     "name": "stdout",
     "output_type": "stream",
     "text": [
      "Optimization terminated successfully.\n",
      "         Current function value: 0.405599\n",
      "         Iterations 6\n"
     ]
    }
   ],
   "source": [
    "# Split into target and features\n",
    "y = df.BAD.values.astype(int)\n",
    "X = df.iloc[:,1:]\n",
    "\n",
    "# We add a constant column to X. Think of this as the Python way to include an intercept in your model \n",
    "X = add_constant(X, prepend=True, has_constant='raise')\n",
    "# Estimate logit model\n",
    "logit_model = sm.Logit(y, X.astype(float), ) \n",
    "logit_model = logit_model.fit()"
   ]
  },
  {
   "cell_type": "markdown",
   "metadata": {
    "id": "m3_inlDcVf21"
   },
   "source": [
    "A nice feature of the `statsmodels` implementation is that you can easily produce a standard regression table. "
   ]
  },
  {
   "cell_type": "code",
   "execution_count": 21,
   "metadata": {
    "id": "C0k55AmTVf21",
    "outputId": "53e16eb9-ccf8-4460-8bba-17537ca0c078"
   },
   "outputs": [
    {
     "name": "stderr",
     "output_type": "stream",
     "text": [
      "C:\\ProgramData\\Anaconda3\\envs\\adams\\lib\\site-packages\\statsmodels\\base\\model.py:1354: RuntimeWarning: invalid value encountered in sqrt\n",
      "  bse_ = np.sqrt(np.diag(self.cov_params()))\n",
      "C:\\ProgramData\\Anaconda3\\envs\\adams\\lib\\site-packages\\scipy\\stats\\_distn_infrastructure.py:903: RuntimeWarning: invalid value encountered in greater\n",
      "  return (a < x) & (x < b)\n",
      "C:\\ProgramData\\Anaconda3\\envs\\adams\\lib\\site-packages\\scipy\\stats\\_distn_infrastructure.py:903: RuntimeWarning: invalid value encountered in less\n",
      "  return (a < x) & (x < b)\n",
      "C:\\ProgramData\\Anaconda3\\envs\\adams\\lib\\site-packages\\scipy\\stats\\_distn_infrastructure.py:1912: RuntimeWarning: invalid value encountered in less_equal\n",
      "  cond2 = cond0 & (x <= _a)\n"
     ]
    },
    {
     "data": {
      "text/html": [
       "<table class=\"simpletable\">\n",
       "<caption>Logit Regression Results</caption>\n",
       "<tr>\n",
       "  <th>Dep. Variable:</th>           <td>y</td>        <th>  No. Observations:  </th>   <td>  5960</td>  \n",
       "</tr>\n",
       "<tr>\n",
       "  <th>Model:</th>                 <td>Logit</td>      <th>  Df Residuals:      </th>   <td>  5942</td>  \n",
       "</tr>\n",
       "<tr>\n",
       "  <th>Method:</th>                 <td>MLE</td>       <th>  Df Model:          </th>   <td>    17</td>  \n",
       "</tr>\n",
       "<tr>\n",
       "  <th>Date:</th>            <td>Thu, 12 Nov 2020</td> <th>  Pseudo R-squ.:     </th>   <td>0.1883</td>  \n",
       "</tr>\n",
       "<tr>\n",
       "  <th>Time:</th>                <td>20:51:57</td>     <th>  Log-Likelihood:    </th>  <td> -2417.4</td> \n",
       "</tr>\n",
       "<tr>\n",
       "  <th>converged:</th>             <td>True</td>       <th>  LL-Null:           </th>  <td> -2978.2</td> \n",
       "</tr>\n",
       "<tr>\n",
       "  <th>Covariance Type:</th>     <td>nonrobust</td>    <th>  LLR p-value:       </th> <td>7.822e-228</td>\n",
       "</tr>\n",
       "</table>\n",
       "<table class=\"simpletable\">\n",
       "<tr>\n",
       "          <td></td>            <th>coef</th>     <th>std err</th>      <th>z</th>      <th>P>|z|</th>  <th>[0.025</th>    <th>0.975]</th>  \n",
       "</tr>\n",
       "<tr>\n",
       "  <th>const</th>            <td>   -1.0454</td> <td>      nan</td> <td>      nan</td> <td>   nan</td> <td>      nan</td> <td>      nan</td>\n",
       "</tr>\n",
       "<tr>\n",
       "  <th>LOAN</th>             <td>   -0.1491</td> <td>    0.042</td> <td>   -3.586</td> <td> 0.000</td> <td>   -0.231</td> <td>   -0.068</td>\n",
       "</tr>\n",
       "<tr>\n",
       "  <th>MORTDUE</th>          <td>   -0.1913</td> <td>    0.065</td> <td>   -2.953</td> <td> 0.003</td> <td>   -0.318</td> <td>   -0.064</td>\n",
       "</tr>\n",
       "<tr>\n",
       "  <th>VALUE</th>            <td>    0.0706</td> <td>    0.069</td> <td>    1.027</td> <td> 0.304</td> <td>   -0.064</td> <td>    0.205</td>\n",
       "</tr>\n",
       "<tr>\n",
       "  <th>YOJ</th>              <td>   -0.0881</td> <td>    0.040</td> <td>   -2.190</td> <td> 0.029</td> <td>   -0.167</td> <td>   -0.009</td>\n",
       "</tr>\n",
       "<tr>\n",
       "  <th>CLAGE</th>            <td>   -0.4613</td> <td>    0.042</td> <td>  -11.006</td> <td> 0.000</td> <td>   -0.543</td> <td>   -0.379</td>\n",
       "</tr>\n",
       "<tr>\n",
       "  <th>NINQ</th>             <td>    0.3301</td> <td>    0.030</td> <td>   11.060</td> <td> 0.000</td> <td>    0.272</td> <td>    0.389</td>\n",
       "</tr>\n",
       "<tr>\n",
       "  <th>CLNO</th>             <td>   -0.1327</td> <td>    0.045</td> <td>   -2.938</td> <td> 0.003</td> <td>   -0.221</td> <td>   -0.044</td>\n",
       "</tr>\n",
       "<tr>\n",
       "  <th>DEBTINC</th>          <td>    0.4228</td> <td>    0.043</td> <td>    9.868</td> <td> 0.000</td> <td>    0.339</td> <td>    0.507</td>\n",
       "</tr>\n",
       "<tr>\n",
       "  <th>DEROGzero</th>        <td>   -1.0454</td> <td>      nan</td> <td>      nan</td> <td>   nan</td> <td>      nan</td> <td>      nan</td>\n",
       "</tr>\n",
       "<tr>\n",
       "  <th>REASON_HomeImp</th>   <td>    0.2472</td> <td>    0.089</td> <td>    2.770</td> <td> 0.006</td> <td>    0.072</td> <td>    0.422</td>\n",
       "</tr>\n",
       "<tr>\n",
       "  <th>REASON_IsMissing</th> <td>    0.3667</td> <td>    0.174</td> <td>    2.110</td> <td> 0.035</td> <td>    0.026</td> <td>    0.707</td>\n",
       "</tr>\n",
       "<tr>\n",
       "  <th>JOB_Office</th>       <td>   -0.6847</td> <td>      nan</td> <td>      nan</td> <td>   nan</td> <td>      nan</td> <td>      nan</td>\n",
       "</tr>\n",
       "<tr>\n",
       "  <th>JOB_Other</th>        <td>   -0.0256</td> <td>      nan</td> <td>      nan</td> <td>   nan</td> <td>      nan</td> <td>      nan</td>\n",
       "</tr>\n",
       "<tr>\n",
       "  <th>JOB_ProfExe</th>      <td>    0.0376</td> <td>      nan</td> <td>      nan</td> <td>   nan</td> <td>      nan</td> <td>      nan</td>\n",
       "</tr>\n",
       "<tr>\n",
       "  <th>JOB_Sales</th>        <td>    1.1200</td> <td>    0.136</td> <td>    8.237</td> <td> 0.000</td> <td>    0.854</td> <td>    1.387</td>\n",
       "</tr>\n",
       "<tr>\n",
       "  <th>JOB_Self</th>         <td>    0.6336</td> <td>    0.151</td> <td>    4.201</td> <td> 0.000</td> <td>    0.338</td> <td>    0.929</td>\n",
       "</tr>\n",
       "<tr>\n",
       "  <th>DELINQcat_1</th>      <td>    1.2601</td> <td>    0.179</td> <td>    7.020</td> <td> 0.000</td> <td>    0.908</td> <td>    1.612</td>\n",
       "</tr>\n",
       "<tr>\n",
       "  <th>DELINQcat_1+</th>     <td>    2.3296</td> <td>    0.138</td> <td>   16.849</td> <td> 0.000</td> <td>    2.059</td> <td>    2.601</td>\n",
       "</tr>\n",
       "</table>"
      ],
      "text/plain": [
       "<class 'statsmodels.iolib.summary.Summary'>\n",
       "\"\"\"\n",
       "                           Logit Regression Results                           \n",
       "==============================================================================\n",
       "Dep. Variable:                      y   No. Observations:                 5960\n",
       "Model:                          Logit   Df Residuals:                     5942\n",
       "Method:                           MLE   Df Model:                           17\n",
       "Date:                Thu, 12 Nov 2020   Pseudo R-squ.:                  0.1883\n",
       "Time:                        20:51:57   Log-Likelihood:                -2417.4\n",
       "converged:                       True   LL-Null:                       -2978.2\n",
       "Covariance Type:            nonrobust   LLR p-value:                7.822e-228\n",
       "====================================================================================\n",
       "                       coef    std err          z      P>|z|      [0.025      0.975]\n",
       "------------------------------------------------------------------------------------\n",
       "const               -1.0454        nan        nan        nan         nan         nan\n",
       "LOAN                -0.1491      0.042     -3.586      0.000      -0.231      -0.068\n",
       "MORTDUE             -0.1913      0.065     -2.953      0.003      -0.318      -0.064\n",
       "VALUE                0.0706      0.069      1.027      0.304      -0.064       0.205\n",
       "YOJ                 -0.0881      0.040     -2.190      0.029      -0.167      -0.009\n",
       "CLAGE               -0.4613      0.042    -11.006      0.000      -0.543      -0.379\n",
       "NINQ                 0.3301      0.030     11.060      0.000       0.272       0.389\n",
       "CLNO                -0.1327      0.045     -2.938      0.003      -0.221      -0.044\n",
       "DEBTINC              0.4228      0.043      9.868      0.000       0.339       0.507\n",
       "DEROGzero           -1.0454        nan        nan        nan         nan         nan\n",
       "REASON_HomeImp       0.2472      0.089      2.770      0.006       0.072       0.422\n",
       "REASON_IsMissing     0.3667      0.174      2.110      0.035       0.026       0.707\n",
       "JOB_Office          -0.6847        nan        nan        nan         nan         nan\n",
       "JOB_Other           -0.0256        nan        nan        nan         nan         nan\n",
       "JOB_ProfExe          0.0376        nan        nan        nan         nan         nan\n",
       "JOB_Sales            1.1200      0.136      8.237      0.000       0.854       1.387\n",
       "JOB_Self             0.6336      0.151      4.201      0.000       0.338       0.929\n",
       "DELINQcat_1          1.2601      0.179      7.020      0.000       0.908       1.612\n",
       "DELINQcat_1+         2.3296      0.138     16.849      0.000       2.059       2.601\n",
       "====================================================================================\n",
       "\"\"\""
      ]
     },
     "execution_count": 21,
     "metadata": {},
     "output_type": "execute_result"
    }
   ],
   "source": [
    "logit_model.summary()"
   ]
  },
  {
   "cell_type": "markdown",
   "metadata": {
    "id": "kV1SAbWTVf24"
   },
   "source": [
    "Spend a little time on inspecting the table. The pseudo $R^2$ statistic suggests that the model explains only a moderate amount of the variability of the target variable. However, we find from the *LLR test* that the model as a whole is highly significant. Further, most features come out as significant,  two dummy variables for the job categories *prof. executive* and *other* and the feature VALUE being an exception. Remember the result of the analysis of feature correlation in [Tutorial 4](https://colab.research.google.com/github/Humboldt-WI/bads/blob/master/tutorials/4_nb_data_preparation.ipynb)? The result for the VALUE feature is surely due to the high correlation of this feature with MORTDUE.    "
   ]
  },
  {
   "cell_type": "code",
   "execution_count": 22,
   "metadata": {
    "id": "I7QbSZ8oVf25",
    "outputId": "5fd66b58-4820-4594-a343-d5935563f220"
   },
   "outputs": [
    {
     "data": {
      "text/plain": [
       "array([[1.        , 0.82513958],\n",
       "       [0.82513958, 1.        ]])"
      ]
     },
     "execution_count": 22,
     "metadata": {},
     "output_type": "execute_result"
    }
   ],
   "source": [
    "np.corrcoef(df.MORTDUE, df.VALUE)"
   ]
  },
  {
   "cell_type": "markdown",
   "metadata": {
    "id": "7LP4_ZmzVf29"
   },
   "source": [
    "Reestimating the logit model after removing the feature MORTDUE would be a good exercise. After the modification, VALUE should come out as significant.\n",
    "\n",
    "We could easily continue our discussion of the regression table to draw more conclusions about our data. However, this is not the point the focal tutorial. Instead, let's look at another implementation of logistic regression. The famous `scikit-learn` library is the goto library for machine learning in Python. We will use it intensively throughout the course. It also supplies an implementation of logistic regression. Let's see how to use that implementation      "
   ]
  },
  {
   "cell_type": "code",
   "execution_count": 23,
   "metadata": {
    "id": "5ij5VpjkVf2-",
    "outputId": "47f85b52-2f1f-456c-ec65-053b92c1ebfc"
   },
   "outputs": [
    {
     "data": {
      "text/plain": [
       "LogisticRegression(C=1.0, class_weight=None, dual=False, fit_intercept=False,\n",
       "                   intercept_scaling=1, l1_ratio=None, max_iter=100,\n",
       "                   multi_class='auto', n_jobs=None, penalty='none',\n",
       "                   random_state=None, solver='lbfgs', tol=0.0001, verbose=0,\n",
       "                   warm_start=False)"
      ]
     },
     "execution_count": 23,
     "metadata": {},
     "output_type": "execute_result"
    }
   ],
   "source": [
    "from sklearn.linear_model import LogisticRegression\n",
    "\n",
    "sk_logit = LogisticRegression(penalty='none', fit_intercept=False)  # Recall that we already included a constant column in X. \n",
    "sk_logit.fit(X, y)                                                  # So we must set fit_intercept to False"
   ]
  },
  {
   "cell_type": "markdown",
   "metadata": {
    "id": "lcCMcjQLVf3C"
   },
   "source": [
    "The `sklearn` implementation is geared toward predictive modeling. For example, there is no way to easily obtain fitting statistics or shed light on the significance of features. On the other hand, the class `LogisticRegression` supports many advanced features to maximize the predictive power of the logit model. The above output already hints at the many different parameters that you can configure. Have a look into the help if you'd like to learn more. We will cover important parameters like those associated with *regularization* in chapter 7 of BADS. One easy to appreciate advantage of `sklearn` over `statsmodels` when it comes to logistic regression is scalability. The sklearn implementation is faster and can cope with larger data sets.\n",
    "\n",
    "Given the differences between our two logit models, the only way to compare them (for now) is by inspecting the estimated model coefficients.  "
   ]
  },
  {
   "cell_type": "code",
   "execution_count": 26,
   "metadata": {
    "id": "ZPyDAs0GVf3D",
    "outputId": "fa066259-5255-40c8-88d9-da39e407ff42"
   },
   "outputs": [
    {
     "data": {
      "text/html": [
       "<div>\n",
       "<style scoped>\n",
       "    .dataframe tbody tr th:only-of-type {\n",
       "        vertical-align: middle;\n",
       "    }\n",
       "\n",
       "    .dataframe tbody tr th {\n",
       "        vertical-align: top;\n",
       "    }\n",
       "\n",
       "    .dataframe thead th {\n",
       "        text-align: right;\n",
       "    }\n",
       "</style>\n",
       "<table border=\"1\" class=\"dataframe\">\n",
       "  <thead>\n",
       "    <tr style=\"text-align: right;\">\n",
       "      <th></th>\n",
       "      <th>statsmodels</th>\n",
       "      <th>sklearn</th>\n",
       "    </tr>\n",
       "  </thead>\n",
       "  <tbody>\n",
       "    <tr>\n",
       "      <th>0</th>\n",
       "      <td>-1.045379</td>\n",
       "      <td>-1.045312</td>\n",
       "    </tr>\n",
       "    <tr>\n",
       "      <th>1</th>\n",
       "      <td>-0.149086</td>\n",
       "      <td>-0.149104</td>\n",
       "    </tr>\n",
       "    <tr>\n",
       "      <th>2</th>\n",
       "      <td>-0.191345</td>\n",
       "      <td>-0.191345</td>\n",
       "    </tr>\n",
       "    <tr>\n",
       "      <th>3</th>\n",
       "      <td>0.070593</td>\n",
       "      <td>0.070596</td>\n",
       "    </tr>\n",
       "    <tr>\n",
       "      <th>4</th>\n",
       "      <td>-0.088118</td>\n",
       "      <td>-0.088134</td>\n",
       "    </tr>\n",
       "    <tr>\n",
       "      <th>5</th>\n",
       "      <td>-0.461284</td>\n",
       "      <td>-0.461275</td>\n",
       "    </tr>\n",
       "    <tr>\n",
       "      <th>6</th>\n",
       "      <td>0.330069</td>\n",
       "      <td>0.330033</td>\n",
       "    </tr>\n",
       "    <tr>\n",
       "      <th>7</th>\n",
       "      <td>-0.132715</td>\n",
       "      <td>-0.132714</td>\n",
       "    </tr>\n",
       "    <tr>\n",
       "      <th>8</th>\n",
       "      <td>0.422777</td>\n",
       "      <td>0.422795</td>\n",
       "    </tr>\n",
       "    <tr>\n",
       "      <th>9</th>\n",
       "      <td>-1.045379</td>\n",
       "      <td>-1.045312</td>\n",
       "    </tr>\n",
       "    <tr>\n",
       "      <th>10</th>\n",
       "      <td>0.247169</td>\n",
       "      <td>0.247142</td>\n",
       "    </tr>\n",
       "    <tr>\n",
       "      <th>11</th>\n",
       "      <td>0.366705</td>\n",
       "      <td>0.366697</td>\n",
       "    </tr>\n",
       "    <tr>\n",
       "      <th>12</th>\n",
       "      <td>-0.684658</td>\n",
       "      <td>-0.684842</td>\n",
       "    </tr>\n",
       "    <tr>\n",
       "      <th>13</th>\n",
       "      <td>-0.025605</td>\n",
       "      <td>-0.025707</td>\n",
       "    </tr>\n",
       "    <tr>\n",
       "      <th>14</th>\n",
       "      <td>0.037601</td>\n",
       "      <td>0.037468</td>\n",
       "    </tr>\n",
       "    <tr>\n",
       "      <th>15</th>\n",
       "      <td>1.120021</td>\n",
       "      <td>1.119628</td>\n",
       "    </tr>\n",
       "    <tr>\n",
       "      <th>16</th>\n",
       "      <td>0.633627</td>\n",
       "      <td>0.633327</td>\n",
       "    </tr>\n",
       "    <tr>\n",
       "      <th>17</th>\n",
       "      <td>1.260116</td>\n",
       "      <td>1.260138</td>\n",
       "    </tr>\n",
       "    <tr>\n",
       "      <th>18</th>\n",
       "      <td>2.329565</td>\n",
       "      <td>2.329602</td>\n",
       "    </tr>\n",
       "  </tbody>\n",
       "</table>\n",
       "</div>"
      ],
      "text/plain": [
       "    statsmodels   sklearn\n",
       "0     -1.045379 -1.045312\n",
       "1     -0.149086 -0.149104\n",
       "2     -0.191345 -0.191345\n",
       "3      0.070593  0.070596\n",
       "4     -0.088118 -0.088134\n",
       "5     -0.461284 -0.461275\n",
       "6      0.330069  0.330033\n",
       "7     -0.132715 -0.132714\n",
       "8      0.422777  0.422795\n",
       "9     -1.045379 -1.045312\n",
       "10     0.247169  0.247142\n",
       "11     0.366705  0.366697\n",
       "12    -0.684658 -0.684842\n",
       "13    -0.025605 -0.025707\n",
       "14     0.037601  0.037468\n",
       "15     1.120021  1.119628\n",
       "16     0.633627  0.633327\n",
       "17     1.260116  1.260138\n",
       "18     2.329565  2.329602"
      ]
     },
     "execution_count": 26,
     "metadata": {},
     "output_type": "execute_result"
    }
   ],
   "source": [
    "# Create a dataframe for the comparison\n",
    "# Note that we also need some conversions to ensure that the two coefficient arrays are compatible\n",
    "pd.DataFrame({\"statsmodels\" :logit_model.params.to_numpy(), \"sklearn\": sk_logit.coef_[0]})"
   ]
  },
  {
   "cell_type": "markdown",
   "metadata": {
    "id": "tybUfadmVf3H"
   },
   "source": [
    "**Conclusion**: the two implementations of the logit model deliver similar results. That is nice but maybe not too exciting. The main take-away is that, when it comes to logistic regression, ask yourself whether you want to use the model for an explanatory or predictive purpose. Use the implementation within `statsmodels` in the former and `sklearn` in the latter case. "
   ]
  },
  {
   "cell_type": "markdown",
   "metadata": {
    "id": "L-VlKNTmVf3H"
   },
   "source": [
    "# Decision Trees\n",
    "\n",
    "Decision trees are useful and powerful algorithms for classifying and regressing data. It works on recursive partitioning which will be shown algorithmically in this notebook. Though most of the the time, Sci-Kit Learn can be used to implement this machine learning method simply, it is useful to take a look at the inner workings of these algorithms. The following parts will first introduce a decision tree from scratch, before demonstrating its coverage in `sklearn`. "
   ]
  },
  {
   "cell_type": "markdown",
   "metadata": {
    "id": "WGbaWjvgNDna"
   },
   "source": [
    "## Decision Tree From Scratch Using HMEQ Data\n",
    "\n",
    "Firstly, we will go through a decision tree made from scratch. The following code is based on the material originally created by Sebastian Mantey for the Iris Dataset whose GitHub is here: https://github.com/SebastianMantey/Decision-Tree-from-Scratch. You can also search his video on YouTube. The code has been adapted to this course's format and to the HMEQ dataset.\n",
    "\n",
    "Just in case you made changes to the data by running the above code, we first reload the data to a fixed and clear-defined starting point for our tree classifier. Recall that we defined the variable `data_url` above."
   ]
  },
  {
   "cell_type": "code",
   "execution_count": 27,
   "metadata": {
    "id": "bsuvrcucNDnh"
   },
   "outputs": [
    {
     "data": {
      "text/html": [
       "<div>\n",
       "<style scoped>\n",
       "    .dataframe tbody tr th:only-of-type {\n",
       "        vertical-align: middle;\n",
       "    }\n",
       "\n",
       "    .dataframe tbody tr th {\n",
       "        vertical-align: top;\n",
       "    }\n",
       "\n",
       "    .dataframe thead th {\n",
       "        text-align: right;\n",
       "    }\n",
       "</style>\n",
       "<table border=\"1\" class=\"dataframe\">\n",
       "  <thead>\n",
       "    <tr style=\"text-align: right;\">\n",
       "      <th></th>\n",
       "      <th>BAD</th>\n",
       "      <th>LOAN</th>\n",
       "      <th>MORTDUE</th>\n",
       "      <th>VALUE</th>\n",
       "      <th>YOJ</th>\n",
       "      <th>CLAGE</th>\n",
       "      <th>NINQ</th>\n",
       "      <th>CLNO</th>\n",
       "      <th>DEBTINC</th>\n",
       "      <th>DEROGzero</th>\n",
       "      <th>REASON_HomeImp</th>\n",
       "      <th>REASON_IsMissing</th>\n",
       "      <th>JOB_Office</th>\n",
       "      <th>JOB_Other</th>\n",
       "      <th>JOB_ProfExe</th>\n",
       "      <th>JOB_Sales</th>\n",
       "      <th>JOB_Self</th>\n",
       "      <th>DELINQcat_1</th>\n",
       "      <th>DELINQcat_1+</th>\n",
       "    </tr>\n",
       "    <tr>\n",
       "      <th>index</th>\n",
       "      <th></th>\n",
       "      <th></th>\n",
       "      <th></th>\n",
       "      <th></th>\n",
       "      <th></th>\n",
       "      <th></th>\n",
       "      <th></th>\n",
       "      <th></th>\n",
       "      <th></th>\n",
       "      <th></th>\n",
       "      <th></th>\n",
       "      <th></th>\n",
       "      <th></th>\n",
       "      <th></th>\n",
       "      <th></th>\n",
       "      <th></th>\n",
       "      <th></th>\n",
       "      <th></th>\n",
       "      <th></th>\n",
       "    </tr>\n",
       "  </thead>\n",
       "  <tbody>\n",
       "    <tr>\n",
       "      <th>0</th>\n",
       "      <td>True</td>\n",
       "      <td>-1.832283</td>\n",
       "      <td>-1.295882</td>\n",
       "      <td>-1.335526</td>\n",
       "      <td>0.266788</td>\n",
       "      <td>-1.075278</td>\n",
       "      <td>-0.065054</td>\n",
       "      <td>-1.297476</td>\n",
       "      <td>0.137456</td>\n",
       "      <td>True</td>\n",
       "      <td>1</td>\n",
       "      <td>0</td>\n",
       "      <td>0</td>\n",
       "      <td>1</td>\n",
       "      <td>0</td>\n",
       "      <td>0</td>\n",
       "      <td>0</td>\n",
       "      <td>0</td>\n",
       "      <td>0</td>\n",
       "    </tr>\n",
       "    <tr>\n",
       "      <th>1</th>\n",
       "      <td>True</td>\n",
       "      <td>-1.810666</td>\n",
       "      <td>-0.013474</td>\n",
       "      <td>-0.672699</td>\n",
       "      <td>-0.236615</td>\n",
       "      <td>-0.723092</td>\n",
       "      <td>-0.826792</td>\n",
       "      <td>-0.756608</td>\n",
       "      <td>0.137456</td>\n",
       "      <td>True</td>\n",
       "      <td>1</td>\n",
       "      <td>0</td>\n",
       "      <td>0</td>\n",
       "      <td>1</td>\n",
       "      <td>0</td>\n",
       "      <td>0</td>\n",
       "      <td>0</td>\n",
       "      <td>0</td>\n",
       "      <td>1</td>\n",
       "    </tr>\n",
       "    <tr>\n",
       "      <th>2</th>\n",
       "      <td>True</td>\n",
       "      <td>-1.789048</td>\n",
       "      <td>-1.654549</td>\n",
       "      <td>-1.839275</td>\n",
       "      <td>-0.668103</td>\n",
       "      <td>-0.368769</td>\n",
       "      <td>-0.065054</td>\n",
       "      <td>-1.189302</td>\n",
       "      <td>0.137456</td>\n",
       "      <td>True</td>\n",
       "      <td>1</td>\n",
       "      <td>0</td>\n",
       "      <td>0</td>\n",
       "      <td>1</td>\n",
       "      <td>0</td>\n",
       "      <td>0</td>\n",
       "      <td>0</td>\n",
       "      <td>0</td>\n",
       "      <td>0</td>\n",
       "    </tr>\n",
       "    <tr>\n",
       "      <th>3</th>\n",
       "      <td>True</td>\n",
       "      <td>-1.789048</td>\n",
       "      <td>-0.159552</td>\n",
       "      <td>-0.202559</td>\n",
       "      <td>-0.236615</td>\n",
       "      <td>-0.061033</td>\n",
       "      <td>-0.065054</td>\n",
       "      <td>-0.107566</td>\n",
       "      <td>0.137456</td>\n",
       "      <td>True</td>\n",
       "      <td>0</td>\n",
       "      <td>1</td>\n",
       "      <td>0</td>\n",
       "      <td>1</td>\n",
       "      <td>0</td>\n",
       "      <td>0</td>\n",
       "      <td>0</td>\n",
       "      <td>0</td>\n",
       "      <td>0</td>\n",
       "    </tr>\n",
       "    <tr>\n",
       "      <th>4</th>\n",
       "      <td>False</td>\n",
       "      <td>-1.767431</td>\n",
       "      <td>0.791699</td>\n",
       "      <td>0.311107</td>\n",
       "      <td>-0.811933</td>\n",
       "      <td>-1.088528</td>\n",
       "      <td>-0.826792</td>\n",
       "      <td>-0.756608</td>\n",
       "      <td>0.137456</td>\n",
       "      <td>True</td>\n",
       "      <td>1</td>\n",
       "      <td>0</td>\n",
       "      <td>1</td>\n",
       "      <td>0</td>\n",
       "      <td>0</td>\n",
       "      <td>0</td>\n",
       "      <td>0</td>\n",
       "      <td>0</td>\n",
       "      <td>0</td>\n",
       "    </tr>\n",
       "  </tbody>\n",
       "</table>\n",
       "</div>"
      ],
      "text/plain": [
       "         BAD      LOAN   MORTDUE     VALUE       YOJ     CLAGE      NINQ  \\\n",
       "index                                                                      \n",
       "0       True -1.832283 -1.295882 -1.335526  0.266788 -1.075278 -0.065054   \n",
       "1       True -1.810666 -0.013474 -0.672699 -0.236615 -0.723092 -0.826792   \n",
       "2       True -1.789048 -1.654549 -1.839275 -0.668103 -0.368769 -0.065054   \n",
       "3       True -1.789048 -0.159552 -0.202559 -0.236615 -0.061033 -0.065054   \n",
       "4      False -1.767431  0.791699  0.311107 -0.811933 -1.088528 -0.826792   \n",
       "\n",
       "           CLNO   DEBTINC  DEROGzero  REASON_HomeImp  REASON_IsMissing  \\\n",
       "index                                                                    \n",
       "0     -1.297476  0.137456       True               1                 0   \n",
       "1     -0.756608  0.137456       True               1                 0   \n",
       "2     -1.189302  0.137456       True               1                 0   \n",
       "3     -0.107566  0.137456       True               0                 1   \n",
       "4     -0.756608  0.137456       True               1                 0   \n",
       "\n",
       "       JOB_Office  JOB_Other  JOB_ProfExe  JOB_Sales  JOB_Self  DELINQcat_1  \\\n",
       "index                                                                         \n",
       "0               0          1            0          0         0            0   \n",
       "1               0          1            0          0         0            0   \n",
       "2               0          1            0          0         0            0   \n",
       "3               0          1            0          0         0            0   \n",
       "4               1          0            0          0         0            0   \n",
       "\n",
       "       DELINQcat_1+  \n",
       "index                \n",
       "0                 0  \n",
       "1                 1  \n",
       "2                 0  \n",
       "3                 0  \n",
       "4                 0  "
      ]
     },
     "execution_count": 27,
     "metadata": {},
     "output_type": "execute_result"
    }
   ],
   "source": [
    "df = pd.read_csv(data_url, header = 0, index_col = 0) # import file with header and index as first row and column respectively\n",
    "\n",
    "df.head() #inspect data to make sure it looks correct"
   ]
  },
  {
   "cell_type": "code",
   "execution_count": 28,
   "metadata": {
    "id": "OmQjZM1zNDnk"
   },
   "outputs": [],
   "source": [
    "X = df.drop(['BAD'], axis=1) #code the variables in the most standard way for your usage\n",
    "y = df[['BAD']]"
   ]
  },
  {
   "cell_type": "code",
   "execution_count": 29,
   "metadata": {
    "colab": {
     "base_uri": "https://localhost:8080/",
     "height": 34
    },
    "id": "_IINnpuiNDnp",
    "outputId": "9f207d34-616d-426f-d3b1-85183ad3c8e1"
   },
   "outputs": [
    {
     "name": "stdout",
     "output_type": "stream",
     "text": [
      "<class 'pandas.core.frame.DataFrame'> <class 'pandas.core.frame.DataFrame'> (5960, 18) (5960, 1)\n"
     ]
    }
   ],
   "source": [
    "print(type(X), type(y), X.shape, y.shape) # double check that types and dimensions are correct before proceeding"
   ]
  },
  {
   "cell_type": "markdown",
   "metadata": {
    "id": "rDBY9KhyNDns"
   },
   "source": [
    "### Helper Functions for the Tree\n",
    "\n",
    "Decision trees work by recursively partitioning data.\n",
    "\n",
    "Many potential ways to split the data are calculated (e.g. we are going to go through all unique values of each column and finding the midpoint between sequential values). For each potential split, we evaluate whether the target variable has more homogeneity in each leaf. This is done by calculating 'impurity' of the parent node and comparing it with the sum of the impurity of the child nodes. We call the resulting statistic *information gain*.  There are three major impurity functions: entropy, Gini and misclassification. We will be using entropy in our example. The split which yields the lowest impurity is chosen and the process is repeated for the new nodes (this is recursion). Needless to say, changing  the code so that is uses Gini instead of entropy is a good exercise. Even better: you extend it such that it supports both Gini and entropy and let the caller decide which one to use. Don't forget to send us a pull request when done ;) \n",
    "\n",
    "The method of choosing the split that yields the lowest impurity is called the greedy search method. The following functions will help the decision tree implement greedy search tactics on the data. The algorithm stops either when purity in each node is reached or when it has reached a maximum depth (max amount of recursions we allow) specified in our function.\n",
    "\n",
    "Many functions for the tree are not found in Python packages and it is cleaner to write them out first then put them together in our main algorithm. Each function below does a specific action which will be used in our final tree function at the end."
   ]
  },
  {
   "cell_type": "code",
   "execution_count": 30,
   "metadata": {
    "id": "kQn0f5j3NDnt"
   },
   "outputs": [],
   "source": [
    "def check_purity(y):\n",
    "    \n",
    "    'checks if a leaf node is perfectly pure, in other words, if the leaf node contains only one class'\n",
    "    \n",
    "    unique_classes = np.unique(y) #count number of classes in section of data\n",
    "\n",
    "    if len(unique_classes) == 1: #check if the node is pure\n",
    "        return True\n",
    "    else:\n",
    "        return False"
   ]
  },
  {
   "cell_type": "code",
   "execution_count": 31,
   "metadata": {
    "id": "aI3uWMLNNDnx"
   },
   "outputs": [],
   "source": [
    "def classify_data(y):\n",
    "    \n",
    "    'classifies data according to the majority class of each leaf'\n",
    "    \n",
    "    unique_classes, counts_unique_classes = np.unique(y, return_counts=True)\n",
    "    #returns classes and no. of obs per class\n",
    "\n",
    "    index = counts_unique_classes.argmax() #index of class with most obs\n",
    "    classification = unique_classes[index] #class chosen for classification which is class with most obs\n",
    "    \n",
    "    return classification"
   ]
  },
  {
   "cell_type": "code",
   "execution_count": 32,
   "metadata": {
    "id": "yCVh0DzVNDnz"
   },
   "outputs": [],
   "source": [
    "def get_potential_splits(X):\n",
    "    \n",
    "    'first, takes every unique value of every feature in the feature space, then finds the midpoint between each value'\n",
    "    \n",
    "    potential_splits = {}\n",
    "    _, n_columns = X.shape #don't need rows, we choose the column to split on\n",
    "    # only need second value of .shape which is columns\n",
    "    \n",
    "    for column_index in range(n_columns):\n",
    "        potential_splits[column_index] = [] \n",
    "        values = X[:, column_index] \n",
    "        unique_values = np.unique(values) #get all unique values in each column\n",
    "\n",
    "        for index in range(len(unique_values)): #all unique feature values\n",
    "            if index != 0: #skip first value, we need the difference between next values\n",
    "                current_value = unique_values[index]\n",
    "                previous_value = unique_values[index - 1] #find a value and the next smallest value\n",
    "                potential_split = (current_value + previous_value) / 2 #find difference between the two as a potential split\n",
    "                \n",
    "                #consider all values which lie between two values as a potential split\n",
    "                \n",
    "                potential_splits[column_index].append(potential_split)\n",
    "    \n",
    "    return potential_splits"
   ]
  },
  {
   "cell_type": "code",
   "execution_count": 33,
   "metadata": {
    "id": "wCpg7GNsNDn3"
   },
   "outputs": [],
   "source": [
    "def split_data(X, y, split_column, split_value):\n",
    "    \n",
    "    'splits data based on specific value, will yield both a split for the features X and target y'\n",
    "    \n",
    "    split_column_values = X[:, split_column]\n",
    "\n",
    "    X_below = X[split_column_values <= split_value] #partitions data according to split values from previous functions\n",
    "    X_above = X[split_column_values >  split_value]\n",
    "    \n",
    "    y_below = y[split_column_values <= split_value]\n",
    "    y_above = y[split_column_values >  split_value]\n",
    "    \n",
    "    return X_below, X_above, y_below, y_above"
   ]
  },
  {
   "cell_type": "code",
   "execution_count": 34,
   "metadata": {
    "id": "LivfGUZsNDn6"
   },
   "outputs": [],
   "source": [
    "def calculate_entropy(y):\n",
    "    \n",
    "    'calculates entropy for each partition of data'\n",
    "    \n",
    "    _, counts = np.unique(y, return_counts=True) #we only need the counts of each class, _ is a placeholder\n",
    "\n",
    "    probabilities = counts / counts.sum() #probability of each class\n",
    "    entropy = sum(probabilities * -np.log2(probabilities)) #could replace with Gini impurity or misclassification\n",
    "     \n",
    "    return entropy"
   ]
  },
  {
   "cell_type": "code",
   "execution_count": 35,
   "metadata": {
    "id": "C4DOzYnJNDn8"
   },
   "outputs": [],
   "source": [
    "def calculate_overall_entropy(y_below, y_above): \n",
    "    \n",
    "    'calculates the total entropy after each split'\n",
    "       \n",
    "    n = len(y_below) + len(y_above)\n",
    "    p_data_below = len(y_below) / n\n",
    "    p_data_above = len(y_above) / n\n",
    "\n",
    "    overall_entropy =  (p_data_below * calculate_entropy(y_below)\n",
    "                      + p_data_above * calculate_entropy(y_above))\n",
    "    \n",
    "    return overall_entropy"
   ]
  },
  {
   "cell_type": "code",
   "execution_count": 36,
   "metadata": {
    "id": "_XDV8STVNDn-"
   },
   "outputs": [],
   "source": [
    "def determine_best_split(X, y, potential_splits):\n",
    "    \n",
    "    'selects which split lowered entropy the most'\n",
    "    \n",
    "    overall_entropy = 9999 #set arbitrarily high, the function will loop over and replace this with lower impurity values\n",
    "    for column_index in potential_splits:\n",
    "        for value in potential_splits[column_index]:\n",
    "            X_below, X_above, y_below, y_above = split_data(X, y, split_column=column_index, split_value=value)\n",
    "            current_overall_entropy = calculate_overall_entropy(y_below, y_above)\n",
    "            \n",
    "            #goes through each potential split and only updates if it lowers entropy\n",
    "\n",
    "            if current_overall_entropy <= overall_entropy: \n",
    "                overall_entropy = current_overall_entropy #updates only if lower entropy split found, in the ned this is greedy search\n",
    "                best_split_column = column_index\n",
    "                best_split_value = value\n",
    "    \n",
    "    return best_split_column, best_split_value"
   ]
  },
  {
   "cell_type": "markdown",
   "metadata": {
    "id": "3m-msruhNDoB"
   },
   "source": [
    "### The Main Algorithm\n",
    "\n",
    "The tree will now implement the helper functions and display the decision which yielded the best split if printed."
   ]
  },
  {
   "cell_type": "code",
   "execution_count": 37,
   "metadata": {
    "id": "u0kVtXeONDoB"
   },
   "outputs": [],
   "source": [
    "def decision_tree_algorithm(X, y, counter=0, min_samples=2, max_depth=5): \n",
    "    \n",
    "    # data preparation\n",
    "    if counter == 0: # counter tells us how deep the tree is, this is before the tree is initiated\n",
    "        global COLUMN_HEADERS\n",
    "        COLUMN_HEADERS = X.columns\n",
    "        X = X.values #change all to NumPy array for faster calculations\n",
    "        y = y.values\n",
    "    else:\n",
    "        data = X #if we have started the tree, X should already be a NumPy array from the code above \n",
    "    \n",
    "    # base cases\n",
    "    if (check_purity(y)) or (len(X) < min_samples) or (counter == max_depth):\n",
    "        classification = classify_data(y)\n",
    "        \n",
    "        return classification\n",
    "    \n",
    "    # recursive part\n",
    "    else:    \n",
    "        counter += 1 #tells us how deep the tree is\n",
    "\n",
    "        # helper functions \n",
    "        potential_splits = get_potential_splits(X) #check for all possible splits\n",
    "        best_split_column, best_split_value = determine_best_split(X, y, potential_splits) #select best split based on entropy\n",
    "        X_below, X_above, y_below, y_above = split_data(X, y, best_split_column, best_split_value) #execute best split\n",
    "        \n",
    "        # code to explain decisions made by tree to users\n",
    "        feature_name = COLUMN_HEADERS[best_split_column]\n",
    "        question = \"{} <= {}\".format(feature_name, best_split_value) #initiate explanation of split\n",
    "        sub_tree = {question: []}\n",
    "        \n",
    "        # pull answers from tree\n",
    "        yes_answer = decision_tree_algorithm(X_below, y_below, counter, min_samples, max_depth)\n",
    "        no_answer = decision_tree_algorithm(X_above, y_above, counter, min_samples, max_depth)\n",
    "        \n",
    "        # ensure explanation actually shows useful information\n",
    "        if yes_answer == no_answer: #if decisions are the same, only display one\n",
    "            sub_tree = yes_answer\n",
    "        else:\n",
    "            sub_tree[question].append(yes_answer)\n",
    "            sub_tree[question].append(no_answer)\n",
    "        \n",
    "        return sub_tree"
   ]
  },
  {
   "cell_type": "markdown",
   "metadata": {
    "id": "tXwvb-StNDoE"
   },
   "source": [
    "### Grow First Tree\n",
    "\n",
    "Test the tree and display the decisions with a shallow depth."
   ]
  },
  {
   "cell_type": "code",
   "execution_count": 38,
   "metadata": {
    "id": "5oGWhUUdNDoE"
   },
   "outputs": [],
   "source": [
    "tree = decision_tree_algorithm(X, y, max_depth=2)"
   ]
  },
  {
   "cell_type": "markdown",
   "metadata": {
    "id": "B0xBW-wxNDoH"
   },
   "source": [
    "#### Structure of the First Tree"
   ]
  },
  {
   "cell_type": "code",
   "execution_count": 40,
   "metadata": {
    "colab": {
     "base_uri": "https://localhost:8080/",
     "height": 68
    },
    "id": "HTYwtJaTNDoI",
    "outputId": "9c759e23-1fa6-4a03-b2c4-c8557399696e",
    "scrolled": true
   },
   "outputs": [
    {
     "name": "stdout",
     "output_type": "stream",
     "text": [
      "{'DEBTINC <= 0.13253751764464605': [False,\n",
      "                                    {'DEBTINC <= 0.137471043429223': [True,\n",
      "                                                                      False]}]}\n"
     ]
    }
   ],
   "source": [
    "from pprint import pprint  # library for prettier print output\n",
    "\n",
    "pprint(tree)"
   ]
  },
  {
   "cell_type": "code",
   "execution_count": 41,
   "metadata": {
    "colab": {
     "base_uri": "https://localhost:8080/",
     "height": 34
    },
    "id": "b2dO6mc3OcUW",
    "outputId": "e9c7fba5-3d4b-4805-89c6-1f92a698ffa2"
   },
   "outputs": [
    {
     "data": {
      "text/plain": [
       "dict_values([[False, {'DEBTINC <= 0.137471043429223': [True, False]}]])"
      ]
     },
     "execution_count": 41,
     "metadata": {},
     "output_type": "execute_result"
    }
   ],
   "source": [
    "tree.values()"
   ]
  },
  {
   "cell_type": "markdown",
   "metadata": {
    "id": "oP1gGq8PNDoK"
   },
   "source": [
    "The first node in the tree asks the question:\n",
    "\n",
    "DEBTINC <= 0.13253751764464605\n",
    "\n",
    "If this is true, the tree will predict BAD as false.\n",
    "\n",
    "If this is false, the tree will ask a second question:\n",
    "\n",
    "DEBTINC <= 0.137471043429223\n",
    "\n",
    "If true, the tree will predict BAD is true. If false, the tree will predict BAD is false."
   ]
  },
  {
   "cell_type": "markdown",
   "metadata": {
    "id": "zG3DmknMNDoL"
   },
   "source": [
    "#### Classification Example from First Tree\n",
    "\n",
    "Let's take an example and see how the tree classifies it."
   ]
  },
  {
   "cell_type": "code",
   "execution_count": 42,
   "metadata": {
    "colab": {
     "base_uri": "https://localhost:8080/",
     "height": 357
    },
    "id": "3N0m1uZkNDoL",
    "outputId": "62f0cbe7-d418-48ac-e80a-1d22e26fa9f3"
   },
   "outputs": [
    {
     "data": {
      "text/plain": [
       "BAD                      True\n",
       "LOAN                 -1.78905\n",
       "MORTDUE              -1.65455\n",
       "VALUE                -1.83928\n",
       "YOJ                 -0.668103\n",
       "CLAGE               -0.368769\n",
       "NINQ               -0.0650545\n",
       "CLNO                  -1.1893\n",
       "DEBTINC              0.137456\n",
       "DEROGzero                True\n",
       "REASON_HomeImp              1\n",
       "REASON_IsMissing            0\n",
       "JOB_Office                  0\n",
       "JOB_Other                   1\n",
       "JOB_ProfExe                 0\n",
       "JOB_Sales                   0\n",
       "JOB_Self                    0\n",
       "DELINQcat_1                 0\n",
       "DELINQcat_1+                0\n",
       "Name: 2, dtype: object"
      ]
     },
     "execution_count": 42,
     "metadata": {},
     "output_type": "execute_result"
    }
   ],
   "source": [
    "example = df.iloc[2] #take a random observation\n",
    "example"
   ]
  },
  {
   "cell_type": "code",
   "execution_count": 43,
   "metadata": {
    "id": "dwDAjPfiNDoO"
   },
   "outputs": [],
   "source": [
    "def classify_example(example, tree):\n",
    "    question = list(tree.keys())[0] #checks what is the next data split\n",
    "    feature_name, comparison_operator, value = question.split() #splits question into elements\n",
    "\n",
    "    # ask question\n",
    "    if example[feature_name] <= float(value): # checks key element for split\n",
    "        answer = tree[question][0] # selects yes answer\n",
    "    else:\n",
    "        answer = tree[question][1] # selects no answer\n",
    "\n",
    "    # base case\n",
    "    if not isinstance(answer, dict): # if answer is not a dictionary, we have reached a decision\n",
    "        return answer # display prediction\n",
    "    \n",
    "    # recursive part\n",
    "    else:\n",
    "        residual_tree = answer # continue if another dictionary is reached\n",
    "        return classify_example(example, residual_tree)"
   ]
  },
  {
   "cell_type": "code",
   "execution_count": 44,
   "metadata": {
    "colab": {
     "base_uri": "https://localhost:8080/",
     "height": 34
    },
    "id": "iNJfUbv4NDoQ",
    "outputId": "0dba0fe7-9ccb-402a-97b7-b8b2973358b2"
   },
   "outputs": [
    {
     "data": {
      "text/plain": [
       "True"
      ]
     },
     "execution_count": 44,
     "metadata": {},
     "output_type": "execute_result"
    }
   ],
   "source": [
    "classify_example(example, tree)"
   ]
  },
  {
   "cell_type": "code",
   "execution_count": 45,
   "metadata": {
    "colab": {
     "base_uri": "https://localhost:8080/",
     "height": 51
    },
    "id": "02hAq6KINDoS",
    "outputId": "a77dd589-3645-4304-e8e9-618ad69dfc8c"
   },
   "outputs": [
    {
     "data": {
      "text/plain": [
       "BAD    True\n",
       "Name: 2, dtype: bool"
      ]
     },
     "execution_count": 45,
     "metadata": {},
     "output_type": "execute_result"
    }
   ],
   "source": [
    "y.iloc[2]"
   ]
  },
  {
   "cell_type": "markdown",
   "metadata": {
    "id": "aaDC9YXTNDoU"
   },
   "source": [
    "The classification for this one instance above is correct, how well does this tree do for the rest of the data points?\n",
    "\n",
    "#### Predictions and Accuracy from First Tree"
   ]
  },
  {
   "cell_type": "code",
   "execution_count": 46,
   "metadata": {
    "id": "cnxXAij9NDoV"
   },
   "outputs": [],
   "source": [
    "predictions = X.apply(classify_example, axis=1, args=(tree,))"
   ]
  },
  {
   "cell_type": "code",
   "execution_count": 47,
   "metadata": {
    "colab": {
     "base_uri": "https://localhost:8080/",
     "height": 34
    },
    "id": "72nc8SQjNDoX",
    "outputId": "839e0bd6-edd6-40a5-8039-19fcc5ddc857"
   },
   "outputs": [
    {
     "data": {
      "text/plain": [
       "0.851006711409396"
      ]
     },
     "execution_count": 47,
     "metadata": {},
     "output_type": "execute_result"
    }
   ],
   "source": [
    "error = np.mean(np.vstack(predictions) == np.array(y))\n",
    "\n",
    "error"
   ]
  },
  {
   "cell_type": "markdown",
   "metadata": {
    "id": "Cqhz7ERGNDoa"
   },
   "source": [
    "The tree is able to classify a good proportion of the test set well even with only a depth of 2."
   ]
  },
  {
   "cell_type": "markdown",
   "metadata": {
    "id": "B4eGRMz_NDob"
   },
   "source": [
    "### Higher Depth in Tree\n",
    "\n",
    "Test the tree and display the decisions with a higher depth to see if accuracy changed."
   ]
  },
  {
   "cell_type": "code",
   "execution_count": 49,
   "metadata": {
    "id": "dMgLFwfbNDob"
   },
   "outputs": [],
   "source": [
    "tree_deep = decision_tree_algorithm(X, y, max_depth=5)"
   ]
  },
  {
   "cell_type": "code",
   "execution_count": 52,
   "metadata": {
    "id": "r7I8PyUTNDod"
   },
   "outputs": [],
   "source": [
    "predictions_deep = X.apply(classify_example, axis=1, args=(tree_deep,))"
   ]
  },
  {
   "cell_type": "code",
   "execution_count": 53,
   "metadata": {
    "colab": {
     "base_uri": "https://localhost:8080/",
     "height": 34
    },
    "id": "ynEEOTqNNDog",
    "outputId": "af88f812-3e0e-476d-ed26-572596c159dc"
   },
   "outputs": [
    {
     "data": {
      "text/plain": [
       "0.8897651006711409"
      ]
     },
     "execution_count": 53,
     "metadata": {},
     "output_type": "execute_result"
    }
   ],
   "source": [
    "error_deep = np.mean(np.vstack(predictions_deep) == np.array(y))\n",
    "\n",
    "error_deep"
   ]
  },
  {
   "cell_type": "markdown",
   "metadata": {
    "id": "-Yy-VGDENDol"
   },
   "source": [
    "The performance of the tree is even better with this depth. However, as we continue to increase depth, there will come a point where the accuracy decreases as the tree internalizes noise from the data. This is called overfitting and weakens the tree's ability to classify unseen observations. Thus, the tree can be deepened only until the test set accuracy begins decreasing."
   ]
  },
  {
   "cell_type": "markdown",
   "metadata": {
    "id": "24iH_u3ANDol"
   },
   "source": [
    "## Decision Trees with Sci-Kit Learn\n",
    "\n",
    "As mentioned, the package Ski-Kit Learn has prebuilt functions which avoid coding most algorithms by scratch. Now armed with the knowledge of the inner workings of the decision tree, it should be easier to understand what this algorithm is trying to achieve."
   ]
  },
  {
   "cell_type": "code",
   "execution_count": 54,
   "metadata": {
    "id": "y4Fd0cChNDol"
   },
   "outputs": [],
   "source": [
    "from sklearn import tree\n",
    "\n",
    "clf = tree.DecisionTreeClassifier(criterion=\"entropy\", min_samples_split=2, max_depth=2) #keep tree at a low depth\n",
    "\n",
    "dt_shallow = clf.fit(X, y)"
   ]
  },
  {
   "cell_type": "code",
   "execution_count": 55,
   "metadata": {
    "id": "v_KPNLD6NDon"
   },
   "outputs": [],
   "source": [
    "pred_dt_shallow = dt_shallow.predict(X)"
   ]
  },
  {
   "cell_type": "code",
   "execution_count": 56,
   "metadata": {
    "colab": {
     "base_uri": "https://localhost:8080/",
     "height": 34
    },
    "id": "k6CTpH7yNDoq",
    "outputId": "1c733e16-9084-4e85-9fce-c3598f66a945"
   },
   "outputs": [
    {
     "data": {
      "text/plain": [
       "array([ True,  True,  True,  True,  True])"
      ]
     },
     "execution_count": 56,
     "metadata": {},
     "output_type": "execute_result"
    }
   ],
   "source": [
    "pred_dt_shallow[0:5]"
   ]
  },
  {
   "cell_type": "code",
   "execution_count": 57,
   "metadata": {
    "colab": {
     "base_uri": "https://localhost:8080/",
     "height": 34
    },
    "id": "lJT5XZOsNDos",
    "outputId": "8d3c6298-380d-4fe3-f05f-19931bd7e3e8"
   },
   "outputs": [
    {
     "data": {
      "text/plain": [
       "0.851006711409396"
      ]
     },
     "execution_count": 57,
     "metadata": {},
     "output_type": "execute_result"
    }
   ],
   "source": [
    "classify_correct_shallow = pred_dt_shallow == y.iloc[:,0]\n",
    "accuracy_shallow = classify_correct_shallow.mean()\n",
    "\n",
    "\n",
    "accuracy_shallow"
   ]
  },
  {
   "cell_type": "code",
   "execution_count": 58,
   "metadata": {
    "colab": {
     "base_uri": "https://localhost:8080/",
     "height": 367
    },
    "id": "L7n0bgMhNDow",
    "outputId": "96a1b17b-f461-4b74-84ab-4f2ed2dc1ef2"
   },
   "outputs": [
    {
     "data": {
      "text/plain": [
       "[Text(167.4, 181.2, 'X[7] <= 0.133\\nentropy = 0.721\\nsamples = 5960\\nvalue = [4771, 1189]'),\n",
       " Text(83.7, 108.72, 'X[17] <= 0.5\\nentropy = 0.315\\nsamples = 2341\\nvalue = [2208, 133]'),\n",
       " Text(41.85, 36.23999999999998, 'entropy = 0.261\\nsamples = 2215\\nvalue = [2117, 98]'),\n",
       " Text(125.55000000000001, 36.23999999999998, 'entropy = 0.852\\nsamples = 126\\nvalue = [91, 35]'),\n",
       " Text(251.10000000000002, 108.72, 'X[7] <= 0.137\\nentropy = 0.871\\nsamples = 3619\\nvalue = [2563, 1056]'),\n",
       " Text(209.25, 36.23999999999998, 'entropy = 0.959\\nsamples = 1273\\nvalue = [486, 787]'),\n",
       " Text(292.95, 36.23999999999998, 'entropy = 0.514\\nsamples = 2346\\nvalue = [2077, 269]')]"
      ]
     },
     "execution_count": 58,
     "metadata": {},
     "output_type": "execute_result"
    },
    {
     "data": {
      "image/png": "[encoded data removed]",
      "text/plain": [
       "<Figure size 432x288 with 1 Axes>"
      ]
     },
     "metadata": {
      "needs_background": "light"
     },
     "output_type": "display_data"
    }
   ],
   "source": [
    "tree.plot_tree(dt_shallow, fontsize=8)"
   ]
  },
  {
   "cell_type": "markdown",
   "metadata": {
    "id": "Q8I98tRbNDoz"
   },
   "source": [
    "### SK Learn Tree with No Limit on Depth\n",
    "\n",
    "If we remove the maximum depth parameter, the algorithm will go as far as it can until all nodes are pure."
   ]
  },
  {
   "cell_type": "code",
   "execution_count": 59,
   "metadata": {
    "id": "y4HfrTLyNDoz"
   },
   "outputs": [],
   "source": [
    "clf = tree.DecisionTreeClassifier(criterion='entropy', min_samples_split=2)\n",
    "\n",
    "dt_deep = clf.fit(X, y)\n",
    "\n",
    "pred_dt_deep = dt_deep.predict(X)"
   ]
  },
  {
   "cell_type": "code",
   "execution_count": 60,
   "metadata": {
    "colab": {
     "base_uri": "https://localhost:8080/",
     "height": 34
    },
    "id": "5Na0BNJFNDo1",
    "outputId": "880bb367-9e33-4ada-fd54-d3be00aae62a"
   },
   "outputs": [
    {
     "data": {
      "text/plain": [
       "array([ True,  True,  True,  True, False])"
      ]
     },
     "execution_count": 60,
     "metadata": {},
     "output_type": "execute_result"
    }
   ],
   "source": [
    "pred_dt_deep[0:5]"
   ]
  },
  {
   "cell_type": "code",
   "execution_count": 61,
   "metadata": {
    "colab": {
     "base_uri": "https://localhost:8080/",
     "height": 34
    },
    "id": "s-rfG-hbNDo3",
    "outputId": "b8b34046-5cf2-4336-fd72-29c1fb1c8490"
   },
   "outputs": [
    {
     "data": {
      "text/plain": [
       "1.0"
      ]
     },
     "execution_count": 61,
     "metadata": {},
     "output_type": "execute_result"
    }
   ],
   "source": [
    "classify_correct_deep = pred_dt_deep == y.iloc[:,0]\n",
    "accuracy_deep = classify_correct_deep.mean()\n",
    "\n",
    "accuracy_deep"
   ]
  },
  {
   "cell_type": "markdown",
   "metadata": {
    "id": "Bs1jcqGTNDo5"
   },
   "source": [
    "While this seems great at first glance, what is the problem here? What does this mean for new data that we encounter whose idiosyncracies may be slightly different than the data we used to train the model?"
   ]
  },
  {
   "cell_type": "code",
   "execution_count": null,
   "metadata": {},
   "outputs": [],
   "source": []
  }
 ],
 "metadata": {
  "colab": {
   "collapsed_sections": [
    "HUkvWfFsVf2m",
    "WGbaWjvgNDna",
    "rDBY9KhyNDns",
    "3m-msruhNDoB",
    "tXwvb-StNDoE",
    "B0xBW-wxNDoH",
    "zG3DmknMNDoL",
    "aaDC9YXTNDoU",
    "B4eGRMz_NDob",
    "24iH_u3ANDol",
    "Q8I98tRbNDoz"
   ],
   "name": "5_nb_supervised_learning new.ipynb",
   "provenance": []
  },
  "kernelspec": {
   "display_name": "Python 3",
   "language": "python",
   "name": "python3"
  },
  "language_info": {
   "codemirror_mode": {
    "name": "ipython",
    "version": 3
   },
   "file_extension": ".py",
   "mimetype": "text/x-python",
   "name": "python",
   "nbconvert_exporter": "python",
   "pygments_lexer": "ipython3",
   "version": "3.7.6"
  }
 },
 "nbformat": 4,
 "nbformat_minor": 4
}
